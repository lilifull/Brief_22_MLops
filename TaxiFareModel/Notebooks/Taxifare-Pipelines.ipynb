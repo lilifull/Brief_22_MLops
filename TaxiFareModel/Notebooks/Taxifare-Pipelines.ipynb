{
 "cells": [
  {
   "cell_type": "markdown",
   "metadata": {},
   "source": [
    "# Refactor the Taxi Fare Prediction Problem with a Pipeline"
   ]
  },
  {
   "cell_type": "markdown",
   "metadata": {},
   "source": [
    "We will refactor the model you built for the Taxi Fare Prediction Problem using:\n",
    "- Custom encoders for the distance and time features\n",
    "- OneHot Encoder in order to encode the hour and day of week features\n",
    "- SimpleImputer to fill missing values\n",
    "- A simple linear regression\n",
    "- A pipeline to put all together\n",
    "\n",
    "Then: \n",
    "- train this pipeline\n",
    "- apply the pipeline on test data\n",
    "- generate predictions and submit these new predictions to Kaggle"
   ]
  },
  {
   "cell_type": "code",
   "execution_count": 1,
   "metadata": {},
   "outputs": [],
   "source": [
    "import pandas as pd"
   ]
  },
  {
   "cell_type": "markdown",
   "metadata": {},
   "source": [
    "## First pipeline"
   ]
  },
  {
   "cell_type": "code",
   "execution_count": 3,
   "metadata": {},
   "outputs": [
    {
     "data": {
      "text/html": [
       "<div>\n",
       "<style scoped>\n",
       "    .dataframe tbody tr th:only-of-type {\n",
       "        vertical-align: middle;\n",
       "    }\n",
       "\n",
       "    .dataframe tbody tr th {\n",
       "        vertical-align: top;\n",
       "    }\n",
       "\n",
       "    .dataframe thead th {\n",
       "        text-align: right;\n",
       "    }\n",
       "</style>\n",
       "<table border=\"1\" class=\"dataframe\">\n",
       "  <thead>\n",
       "    <tr style=\"text-align: right;\">\n",
       "      <th></th>\n",
       "      <th>key</th>\n",
       "      <th>fare_amount</th>\n",
       "      <th>pickup_datetime</th>\n",
       "      <th>pickup_longitude</th>\n",
       "      <th>pickup_latitude</th>\n",
       "      <th>dropoff_longitude</th>\n",
       "      <th>dropoff_latitude</th>\n",
       "      <th>passenger_count</th>\n",
       "    </tr>\n",
       "  </thead>\n",
       "  <tbody>\n",
       "    <tr>\n",
       "      <th>0</th>\n",
       "      <td>2009-06-15 17:26:21.0000001</td>\n",
       "      <td>4.5</td>\n",
       "      <td>2009-06-15 17:26:21 UTC</td>\n",
       "      <td>-73.844311</td>\n",
       "      <td>40.721319</td>\n",
       "      <td>-73.841610</td>\n",
       "      <td>40.712278</td>\n",
       "      <td>1</td>\n",
       "    </tr>\n",
       "    <tr>\n",
       "      <th>1</th>\n",
       "      <td>2010-01-05 16:52:16.0000002</td>\n",
       "      <td>16.9</td>\n",
       "      <td>2010-01-05 16:52:16 UTC</td>\n",
       "      <td>-74.016048</td>\n",
       "      <td>40.711303</td>\n",
       "      <td>-73.979268</td>\n",
       "      <td>40.782004</td>\n",
       "      <td>1</td>\n",
       "    </tr>\n",
       "    <tr>\n",
       "      <th>2</th>\n",
       "      <td>2011-08-18 00:35:00.00000049</td>\n",
       "      <td>5.7</td>\n",
       "      <td>2011-08-18 00:35:00 UTC</td>\n",
       "      <td>-73.982738</td>\n",
       "      <td>40.761270</td>\n",
       "      <td>-73.991242</td>\n",
       "      <td>40.750562</td>\n",
       "      <td>2</td>\n",
       "    </tr>\n",
       "    <tr>\n",
       "      <th>3</th>\n",
       "      <td>2012-04-21 04:30:42.0000001</td>\n",
       "      <td>7.7</td>\n",
       "      <td>2012-04-21 04:30:42 UTC</td>\n",
       "      <td>-73.987130</td>\n",
       "      <td>40.733143</td>\n",
       "      <td>-73.991567</td>\n",
       "      <td>40.758092</td>\n",
       "      <td>1</td>\n",
       "    </tr>\n",
       "    <tr>\n",
       "      <th>4</th>\n",
       "      <td>2010-03-09 07:51:00.000000135</td>\n",
       "      <td>5.3</td>\n",
       "      <td>2010-03-09 07:51:00 UTC</td>\n",
       "      <td>-73.968095</td>\n",
       "      <td>40.768008</td>\n",
       "      <td>-73.956655</td>\n",
       "      <td>40.783762</td>\n",
       "      <td>1</td>\n",
       "    </tr>\n",
       "    <tr>\n",
       "      <th>...</th>\n",
       "      <td>...</td>\n",
       "      <td>...</td>\n",
       "      <td>...</td>\n",
       "      <td>...</td>\n",
       "      <td>...</td>\n",
       "      <td>...</td>\n",
       "      <td>...</td>\n",
       "      <td>...</td>\n",
       "    </tr>\n",
       "    <tr>\n",
       "      <th>995</th>\n",
       "      <td>2011-07-30 07:33:13.0000001</td>\n",
       "      <td>16.9</td>\n",
       "      <td>2011-07-30 07:33:13 UTC</td>\n",
       "      <td>-73.884801</td>\n",
       "      <td>40.755707</td>\n",
       "      <td>-73.980472</td>\n",
       "      <td>40.765556</td>\n",
       "      <td>1</td>\n",
       "    </tr>\n",
       "    <tr>\n",
       "      <th>996</th>\n",
       "      <td>2011-09-24 23:20:00.000000112</td>\n",
       "      <td>13.7</td>\n",
       "      <td>2011-09-24 23:20:00 UTC</td>\n",
       "      <td>-73.953603</td>\n",
       "      <td>40.779203</td>\n",
       "      <td>-73.995763</td>\n",
       "      <td>40.726701</td>\n",
       "      <td>3</td>\n",
       "    </tr>\n",
       "    <tr>\n",
       "      <th>997</th>\n",
       "      <td>2011-12-22 11:07:00.00000037</td>\n",
       "      <td>29.3</td>\n",
       "      <td>2011-12-22 11:07:00 UTC</td>\n",
       "      <td>-73.942380</td>\n",
       "      <td>40.837712</td>\n",
       "      <td>-73.864372</td>\n",
       "      <td>40.769985</td>\n",
       "      <td>2</td>\n",
       "    </tr>\n",
       "    <tr>\n",
       "      <th>998</th>\n",
       "      <td>2014-11-03 12:40:00.00000014</td>\n",
       "      <td>6.5</td>\n",
       "      <td>2014-11-03 12:40:00 UTC</td>\n",
       "      <td>-73.961151</td>\n",
       "      <td>40.774578</td>\n",
       "      <td>-73.972251</td>\n",
       "      <td>40.785640</td>\n",
       "      <td>1</td>\n",
       "    </tr>\n",
       "    <tr>\n",
       "      <th>999</th>\n",
       "      <td>2012-05-18 18:41:30.0000006</td>\n",
       "      <td>10.9</td>\n",
       "      <td>2012-05-18 18:41:30 UTC</td>\n",
       "      <td>-73.988455</td>\n",
       "      <td>40.758432</td>\n",
       "      <td>-73.983816</td>\n",
       "      <td>40.730147</td>\n",
       "      <td>1</td>\n",
       "    </tr>\n",
       "  </tbody>\n",
       "</table>\n",
       "<p>1000 rows × 8 columns</p>\n",
       "</div>"
      ],
      "text/plain": [
       "                               key  fare_amount          pickup_datetime  \\\n",
       "0      2009-06-15 17:26:21.0000001          4.5  2009-06-15 17:26:21 UTC   \n",
       "1      2010-01-05 16:52:16.0000002         16.9  2010-01-05 16:52:16 UTC   \n",
       "2     2011-08-18 00:35:00.00000049          5.7  2011-08-18 00:35:00 UTC   \n",
       "3      2012-04-21 04:30:42.0000001          7.7  2012-04-21 04:30:42 UTC   \n",
       "4    2010-03-09 07:51:00.000000135          5.3  2010-03-09 07:51:00 UTC   \n",
       "..                             ...          ...                      ...   \n",
       "995    2011-07-30 07:33:13.0000001         16.9  2011-07-30 07:33:13 UTC   \n",
       "996  2011-09-24 23:20:00.000000112         13.7  2011-09-24 23:20:00 UTC   \n",
       "997   2011-12-22 11:07:00.00000037         29.3  2011-12-22 11:07:00 UTC   \n",
       "998   2014-11-03 12:40:00.00000014          6.5  2014-11-03 12:40:00 UTC   \n",
       "999    2012-05-18 18:41:30.0000006         10.9  2012-05-18 18:41:30 UTC   \n",
       "\n",
       "     pickup_longitude  pickup_latitude  dropoff_longitude  dropoff_latitude  \\\n",
       "0          -73.844311        40.721319         -73.841610         40.712278   \n",
       "1          -74.016048        40.711303         -73.979268         40.782004   \n",
       "2          -73.982738        40.761270         -73.991242         40.750562   \n",
       "3          -73.987130        40.733143         -73.991567         40.758092   \n",
       "4          -73.968095        40.768008         -73.956655         40.783762   \n",
       "..                ...              ...                ...               ...   \n",
       "995        -73.884801        40.755707         -73.980472         40.765556   \n",
       "996        -73.953603        40.779203         -73.995763         40.726701   \n",
       "997        -73.942380        40.837712         -73.864372         40.769985   \n",
       "998        -73.961151        40.774578         -73.972251         40.785640   \n",
       "999        -73.988455        40.758432         -73.983816         40.730147   \n",
       "\n",
       "     passenger_count  \n",
       "0                  1  \n",
       "1                  1  \n",
       "2                  2  \n",
       "3                  1  \n",
       "4                  1  \n",
       "..               ...  \n",
       "995                1  \n",
       "996                3  \n",
       "997                2  \n",
       "998                1  \n",
       "999                1  \n",
       "\n",
       "[1000 rows x 8 columns]"
      ]
     },
     "execution_count": 3,
     "metadata": {},
     "output_type": "execute_result"
    }
   ],
   "source": [
    "# import the train dataset ( 1000 first rows)\n",
    "df = pd.read_csv('data/train.csv', nrows= 1_000)\n",
    "df"
   ]
  },
  {
   "cell_type": "code",
   "execution_count": 4,
   "metadata": {},
   "outputs": [],
   "source": [
    "# prepare X and y\n",
    "X = df.loc[ : , df.columns != 'fare_amount']\n",
    "y = df.fare_amount"
   ]
  },
  {
   "cell_type": "code",
   "execution_count": 5,
   "metadata": {},
   "outputs": [
    {
     "data": {
      "text/html": [
       "<div>\n",
       "<style scoped>\n",
       "    .dataframe tbody tr th:only-of-type {\n",
       "        vertical-align: middle;\n",
       "    }\n",
       "\n",
       "    .dataframe tbody tr th {\n",
       "        vertical-align: top;\n",
       "    }\n",
       "\n",
       "    .dataframe thead th {\n",
       "        text-align: right;\n",
       "    }\n",
       "</style>\n",
       "<table border=\"1\" class=\"dataframe\">\n",
       "  <thead>\n",
       "    <tr style=\"text-align: right;\">\n",
       "      <th></th>\n",
       "      <th>key</th>\n",
       "      <th>pickup_datetime</th>\n",
       "      <th>pickup_longitude</th>\n",
       "      <th>pickup_latitude</th>\n",
       "      <th>dropoff_longitude</th>\n",
       "      <th>dropoff_latitude</th>\n",
       "      <th>passenger_count</th>\n",
       "    </tr>\n",
       "  </thead>\n",
       "  <tbody>\n",
       "    <tr>\n",
       "      <th>0</th>\n",
       "      <td>2009-06-15 17:26:21.0000001</td>\n",
       "      <td>2009-06-15 17:26:21 UTC</td>\n",
       "      <td>-73.844311</td>\n",
       "      <td>40.721319</td>\n",
       "      <td>-73.841610</td>\n",
       "      <td>40.712278</td>\n",
       "      <td>1</td>\n",
       "    </tr>\n",
       "    <tr>\n",
       "      <th>1</th>\n",
       "      <td>2010-01-05 16:52:16.0000002</td>\n",
       "      <td>2010-01-05 16:52:16 UTC</td>\n",
       "      <td>-74.016048</td>\n",
       "      <td>40.711303</td>\n",
       "      <td>-73.979268</td>\n",
       "      <td>40.782004</td>\n",
       "      <td>1</td>\n",
       "    </tr>\n",
       "    <tr>\n",
       "      <th>2</th>\n",
       "      <td>2011-08-18 00:35:00.00000049</td>\n",
       "      <td>2011-08-18 00:35:00 UTC</td>\n",
       "      <td>-73.982738</td>\n",
       "      <td>40.761270</td>\n",
       "      <td>-73.991242</td>\n",
       "      <td>40.750562</td>\n",
       "      <td>2</td>\n",
       "    </tr>\n",
       "    <tr>\n",
       "      <th>3</th>\n",
       "      <td>2012-04-21 04:30:42.0000001</td>\n",
       "      <td>2012-04-21 04:30:42 UTC</td>\n",
       "      <td>-73.987130</td>\n",
       "      <td>40.733143</td>\n",
       "      <td>-73.991567</td>\n",
       "      <td>40.758092</td>\n",
       "      <td>1</td>\n",
       "    </tr>\n",
       "    <tr>\n",
       "      <th>4</th>\n",
       "      <td>2010-03-09 07:51:00.000000135</td>\n",
       "      <td>2010-03-09 07:51:00 UTC</td>\n",
       "      <td>-73.968095</td>\n",
       "      <td>40.768008</td>\n",
       "      <td>-73.956655</td>\n",
       "      <td>40.783762</td>\n",
       "      <td>1</td>\n",
       "    </tr>\n",
       "    <tr>\n",
       "      <th>...</th>\n",
       "      <td>...</td>\n",
       "      <td>...</td>\n",
       "      <td>...</td>\n",
       "      <td>...</td>\n",
       "      <td>...</td>\n",
       "      <td>...</td>\n",
       "      <td>...</td>\n",
       "    </tr>\n",
       "    <tr>\n",
       "      <th>995</th>\n",
       "      <td>2011-07-30 07:33:13.0000001</td>\n",
       "      <td>2011-07-30 07:33:13 UTC</td>\n",
       "      <td>-73.884801</td>\n",
       "      <td>40.755707</td>\n",
       "      <td>-73.980472</td>\n",
       "      <td>40.765556</td>\n",
       "      <td>1</td>\n",
       "    </tr>\n",
       "    <tr>\n",
       "      <th>996</th>\n",
       "      <td>2011-09-24 23:20:00.000000112</td>\n",
       "      <td>2011-09-24 23:20:00 UTC</td>\n",
       "      <td>-73.953603</td>\n",
       "      <td>40.779203</td>\n",
       "      <td>-73.995763</td>\n",
       "      <td>40.726701</td>\n",
       "      <td>3</td>\n",
       "    </tr>\n",
       "    <tr>\n",
       "      <th>997</th>\n",
       "      <td>2011-12-22 11:07:00.00000037</td>\n",
       "      <td>2011-12-22 11:07:00 UTC</td>\n",
       "      <td>-73.942380</td>\n",
       "      <td>40.837712</td>\n",
       "      <td>-73.864372</td>\n",
       "      <td>40.769985</td>\n",
       "      <td>2</td>\n",
       "    </tr>\n",
       "    <tr>\n",
       "      <th>998</th>\n",
       "      <td>2014-11-03 12:40:00.00000014</td>\n",
       "      <td>2014-11-03 12:40:00 UTC</td>\n",
       "      <td>-73.961151</td>\n",
       "      <td>40.774578</td>\n",
       "      <td>-73.972251</td>\n",
       "      <td>40.785640</td>\n",
       "      <td>1</td>\n",
       "    </tr>\n",
       "    <tr>\n",
       "      <th>999</th>\n",
       "      <td>2012-05-18 18:41:30.0000006</td>\n",
       "      <td>2012-05-18 18:41:30 UTC</td>\n",
       "      <td>-73.988455</td>\n",
       "      <td>40.758432</td>\n",
       "      <td>-73.983816</td>\n",
       "      <td>40.730147</td>\n",
       "      <td>1</td>\n",
       "    </tr>\n",
       "  </tbody>\n",
       "</table>\n",
       "<p>1000 rows × 7 columns</p>\n",
       "</div>"
      ],
      "text/plain": [
       "                               key          pickup_datetime  pickup_longitude  \\\n",
       "0      2009-06-15 17:26:21.0000001  2009-06-15 17:26:21 UTC        -73.844311   \n",
       "1      2010-01-05 16:52:16.0000002  2010-01-05 16:52:16 UTC        -74.016048   \n",
       "2     2011-08-18 00:35:00.00000049  2011-08-18 00:35:00 UTC        -73.982738   \n",
       "3      2012-04-21 04:30:42.0000001  2012-04-21 04:30:42 UTC        -73.987130   \n",
       "4    2010-03-09 07:51:00.000000135  2010-03-09 07:51:00 UTC        -73.968095   \n",
       "..                             ...                      ...               ...   \n",
       "995    2011-07-30 07:33:13.0000001  2011-07-30 07:33:13 UTC        -73.884801   \n",
       "996  2011-09-24 23:20:00.000000112  2011-09-24 23:20:00 UTC        -73.953603   \n",
       "997   2011-12-22 11:07:00.00000037  2011-12-22 11:07:00 UTC        -73.942380   \n",
       "998   2014-11-03 12:40:00.00000014  2014-11-03 12:40:00 UTC        -73.961151   \n",
       "999    2012-05-18 18:41:30.0000006  2012-05-18 18:41:30 UTC        -73.988455   \n",
       "\n",
       "     pickup_latitude  dropoff_longitude  dropoff_latitude  passenger_count  \n",
       "0          40.721319         -73.841610         40.712278                1  \n",
       "1          40.711303         -73.979268         40.782004                1  \n",
       "2          40.761270         -73.991242         40.750562                2  \n",
       "3          40.733143         -73.991567         40.758092                1  \n",
       "4          40.768008         -73.956655         40.783762                1  \n",
       "..               ...                ...               ...              ...  \n",
       "995        40.755707         -73.980472         40.765556                1  \n",
       "996        40.779203         -73.995763         40.726701                3  \n",
       "997        40.837712         -73.864372         40.769985                2  \n",
       "998        40.774578         -73.972251         40.785640                1  \n",
       "999        40.758432         -73.983816         40.730147                1  \n",
       "\n",
       "[1000 rows x 7 columns]"
      ]
     },
     "execution_count": 5,
     "metadata": {},
     "output_type": "execute_result"
    }
   ],
   "source": [
    "X"
   ]
  },
  {
   "cell_type": "code",
   "execution_count": 6,
   "metadata": {},
   "outputs": [
    {
     "data": {
      "text/plain": [
       "0       4.5\n",
       "1      16.9\n",
       "2       5.7\n",
       "3       7.7\n",
       "4       5.3\n",
       "       ... \n",
       "995    16.9\n",
       "996    13.7\n",
       "997    29.3\n",
       "998     6.5\n",
       "999    10.9\n",
       "Name: fare_amount, Length: 1000, dtype: float64"
      ]
     },
     "execution_count": 6,
     "metadata": {},
     "output_type": "execute_result"
    }
   ],
   "source": [
    "y"
   ]
  },
  {
   "cell_type": "code",
   "execution_count": 7,
   "metadata": {},
   "outputs": [],
   "source": [
    "from sklearn.model_selection import train_test_split\n",
    "# Hold out ( train and test dplit )\n",
    "X_train, X_test, y_train, y_test = train_test_split(X, y,  test_size=0.1)"
   ]
  },
  {
   "cell_type": "code",
   "execution_count": 8,
   "metadata": {},
   "outputs": [
    {
     "data": {
      "text/html": [
       "<div>\n",
       "<style scoped>\n",
       "    .dataframe tbody tr th:only-of-type {\n",
       "        vertical-align: middle;\n",
       "    }\n",
       "\n",
       "    .dataframe tbody tr th {\n",
       "        vertical-align: top;\n",
       "    }\n",
       "\n",
       "    .dataframe thead th {\n",
       "        text-align: right;\n",
       "    }\n",
       "</style>\n",
       "<table border=\"1\" class=\"dataframe\">\n",
       "  <thead>\n",
       "    <tr style=\"text-align: right;\">\n",
       "      <th></th>\n",
       "      <th>key</th>\n",
       "      <th>pickup_datetime</th>\n",
       "      <th>pickup_longitude</th>\n",
       "      <th>pickup_latitude</th>\n",
       "      <th>dropoff_longitude</th>\n",
       "      <th>dropoff_latitude</th>\n",
       "      <th>passenger_count</th>\n",
       "    </tr>\n",
       "  </thead>\n",
       "  <tbody>\n",
       "    <tr>\n",
       "      <th>937</th>\n",
       "      <td>2009-03-19 16:15:36.0000004</td>\n",
       "      <td>2009-03-19 16:15:36 UTC</td>\n",
       "      <td>-74.000548</td>\n",
       "      <td>40.737311</td>\n",
       "      <td>-73.993162</td>\n",
       "      <td>40.734975</td>\n",
       "      <td>1</td>\n",
       "    </tr>\n",
       "    <tr>\n",
       "      <th>901</th>\n",
       "      <td>2012-10-05 13:34:41.0000002</td>\n",
       "      <td>2012-10-05 13:34:41 UTC</td>\n",
       "      <td>-73.956865</td>\n",
       "      <td>40.774874</td>\n",
       "      <td>-73.955842</td>\n",
       "      <td>40.784669</td>\n",
       "      <td>1</td>\n",
       "    </tr>\n",
       "    <tr>\n",
       "      <th>510</th>\n",
       "      <td>2010-10-23 18:39:00.000000208</td>\n",
       "      <td>2010-10-23 18:39:00 UTC</td>\n",
       "      <td>-73.782215</td>\n",
       "      <td>40.644272</td>\n",
       "      <td>-73.782217</td>\n",
       "      <td>40.644270</td>\n",
       "      <td>2</td>\n",
       "    </tr>\n",
       "    <tr>\n",
       "      <th>701</th>\n",
       "      <td>2010-03-22 14:59:45.0000001</td>\n",
       "      <td>2010-03-22 14:59:45 UTC</td>\n",
       "      <td>-73.961353</td>\n",
       "      <td>40.765069</td>\n",
       "      <td>-73.960520</td>\n",
       "      <td>40.769931</td>\n",
       "      <td>1</td>\n",
       "    </tr>\n",
       "    <tr>\n",
       "      <th>404</th>\n",
       "      <td>2014-02-06 11:17:00.00000070</td>\n",
       "      <td>2014-02-06 11:17:00 UTC</td>\n",
       "      <td>-73.980710</td>\n",
       "      <td>40.782635</td>\n",
       "      <td>-74.002040</td>\n",
       "      <td>40.719425</td>\n",
       "      <td>1</td>\n",
       "    </tr>\n",
       "  </tbody>\n",
       "</table>\n",
       "</div>"
      ],
      "text/plain": [
       "                               key          pickup_datetime  pickup_longitude  \\\n",
       "937    2009-03-19 16:15:36.0000004  2009-03-19 16:15:36 UTC        -74.000548   \n",
       "901    2012-10-05 13:34:41.0000002  2012-10-05 13:34:41 UTC        -73.956865   \n",
       "510  2010-10-23 18:39:00.000000208  2010-10-23 18:39:00 UTC        -73.782215   \n",
       "701    2010-03-22 14:59:45.0000001  2010-03-22 14:59:45 UTC        -73.961353   \n",
       "404   2014-02-06 11:17:00.00000070  2014-02-06 11:17:00 UTC        -73.980710   \n",
       "\n",
       "     pickup_latitude  dropoff_longitude  dropoff_latitude  passenger_count  \n",
       "937        40.737311         -73.993162         40.734975                1  \n",
       "901        40.774874         -73.955842         40.784669                1  \n",
       "510        40.644272         -73.782217         40.644270                2  \n",
       "701        40.765069         -73.960520         40.769931                1  \n",
       "404        40.782635         -74.002040         40.719425                1  "
      ]
     },
     "execution_count": 8,
     "metadata": {},
     "output_type": "execute_result"
    }
   ],
   "source": [
    "X_train.head()"
   ]
  },
  {
   "cell_type": "markdown",
   "metadata": {},
   "source": [
    "### Custom transformers"
   ]
  },
  {
   "cell_type": "markdown",
   "metadata": {},
   "source": [
    "With the Taxi Fare Prediction Challenge data, using `BaseEstimator` and `TransformerMixin`, implement:\n",
    "\n",
    "- a transformer that computes the haversine distance between the pickup and dropoff locations\n",
    "- a custom encoder that extracts the time features from `pickup_datetime`"
   ]
  },
  {
   "cell_type": "code",
   "execution_count": 9,
   "metadata": {},
   "outputs": [],
   "source": [
    "import numpy as np\n",
    "\n",
    "def haversine_vectorized(df, \n",
    "                         start_lat=\"pickup_latitude\",\n",
    "                         start_lon=\"pickup_longitude\",\n",
    "                         end_lat=\"dropoff_latitude\",\n",
    "                         end_lon=\"dropoff_longitude\"):\n",
    "    \"\"\" \n",
    "        Calculates the great circle distance between two points \n",
    "        on the earth (specified in decimal degrees).\n",
    "        Vectorized version of the haversine distance for pandas df.\n",
    "        Computes the distance in kms.\n",
    "    \"\"\"\n",
    "\n",
    "    lat_1_rad, lon_1_rad = np.radians(df[start_lat].astype(float)), np.radians(df[start_lon].astype(float))\n",
    "    lat_2_rad, lon_2_rad = np.radians(df[end_lat].astype(float)), np.radians(df[end_lon].astype(float))\n",
    "    dlon = lon_2_rad - lon_1_rad\n",
    "    dlat = lat_2_rad - lat_1_rad\n",
    "\n",
    "    a = np.sin(dlat / 2.0) ** 2 + np.cos(lat_1_rad) * np.cos(lat_2_rad) * np.sin(dlon / 2.0) ** 2\n",
    "    c = 2 * np.arcsin(np.sqrt(a))\n",
    "    return 6371 * c"
   ]
  },
  {
   "cell_type": "code",
   "execution_count": 10,
   "metadata": {},
   "outputs": [],
   "source": [
    "# create a DistanceTransformer\n",
    "from sklearn.base import BaseEstimator, TransformerMixin\n",
    "\n",
    "class DistanceTransformer(BaseEstimator, TransformerMixin):\n",
    "    \"\"\"\n",
    "        Computes the haversine distance between two GPS points.\n",
    "        Returns a copy of the DataFrame X with only one column: 'distance'.\n",
    "    \"\"\"\n",
    "\n",
    "    def __init__(self, start_lat=\"pickup_latitude\", start_lon=\"pickup_longitude\", \n",
    "                 end_lat=\"dropoff_latitude\", end_lon=\"dropoff_longitude\"):\n",
    "        self.start_lat = start_lat\n",
    "        self.start_lon = start_lon\n",
    "        self.end_lat = end_lat\n",
    "        self.end_lon = end_lon\n",
    "    \n",
    "    def fit(self, X, y=None):\n",
    "        return self\n",
    "\n",
    "    def transform(self, X):\n",
    "        X_ = X.copy()\n",
    "        X_['distance'] = haversine_vectorized(X_, start_lat = self.start_lat, \n",
    "                                              start_lon = self.start_lon,\n",
    "                                              end_lat = self.end_lat,\n",
    "                                              end_lon = self.end_lon)\n",
    "    \n",
    "        return X_[['distance']]"
   ]
  },
  {
   "cell_type": "code",
   "execution_count": 11,
   "metadata": {},
   "outputs": [
    {
     "data": {
      "text/html": [
       "<div>\n",
       "<style scoped>\n",
       "    .dataframe tbody tr th:only-of-type {\n",
       "        vertical-align: middle;\n",
       "    }\n",
       "\n",
       "    .dataframe tbody tr th {\n",
       "        vertical-align: top;\n",
       "    }\n",
       "\n",
       "    .dataframe thead th {\n",
       "        text-align: right;\n",
       "    }\n",
       "</style>\n",
       "<table border=\"1\" class=\"dataframe\">\n",
       "  <thead>\n",
       "    <tr style=\"text-align: right;\">\n",
       "      <th></th>\n",
       "      <th>distance</th>\n",
       "    </tr>\n",
       "  </thead>\n",
       "  <tbody>\n",
       "    <tr>\n",
       "      <th>937</th>\n",
       "      <td>0.674342</td>\n",
       "    </tr>\n",
       "    <tr>\n",
       "      <th>901</th>\n",
       "      <td>1.092555</td>\n",
       "    </tr>\n",
       "    <tr>\n",
       "      <th>510</th>\n",
       "      <td>0.000279</td>\n",
       "    </tr>\n",
       "    <tr>\n",
       "      <th>701</th>\n",
       "      <td>0.545162</td>\n",
       "    </tr>\n",
       "    <tr>\n",
       "      <th>404</th>\n",
       "      <td>7.254653</td>\n",
       "    </tr>\n",
       "  </tbody>\n",
       "</table>\n",
       "</div>"
      ],
      "text/plain": [
       "     distance\n",
       "937  0.674342\n",
       "901  1.092555\n",
       "510  0.000279\n",
       "701  0.545162\n",
       "404  7.254653"
      ]
     },
     "execution_count": 11,
     "metadata": {},
     "output_type": "execute_result"
    }
   ],
   "source": [
    "# test the DistanceTransformer\n",
    "\n",
    "dist_trans = DistanceTransformer()\n",
    "distance = dist_trans.fit_transform(X_train, y_train)\n",
    "distance.head()"
   ]
  },
  {
   "cell_type": "code",
   "execution_count": 12,
   "metadata": {},
   "outputs": [],
   "source": [
    "def extract_time_features(df):\n",
    "    \n",
    "    df['pickup_datetime'] = pd.to_datetime(df['pickup_datetime'], format='%Y-%m-%d %H:%M:%S UTC')\n",
    "    df['hour'] = df['pickup_datetime'].dt.hour\n",
    "    df['dow'] = df['pickup_datetime'].dt.dayofweek\n",
    "    df['month'] = df['pickup_datetime'].dt.month\n",
    "    df['year'] = df['pickup_datetime'].dt.year\n",
    "    return df"
   ]
  },
  {
   "cell_type": "code",
   "execution_count": 13,
   "metadata": {},
   "outputs": [],
   "source": [
    "# create a TimeFeaturesEncoder\n",
    "class TimeFeaturesEncoder(BaseEstimator, TransformerMixin):\n",
    "    \"\"\"\n",
    "        Extracts the day of week (dow), the hour, the month and the year from a time column.\n",
    "        Returns a copy of the DataFrame X with only four columns: 'dow', 'hour', 'month', 'year'.\n",
    "    \"\"\"\n",
    "\n",
    "    def __init__(self,time_column='pickup_datetime'):\n",
    "        self.time_column = time_column\n",
    "\n",
    "    def fit(self, X, y=None):\n",
    "        return self\n",
    "\n",
    "    def transform(self, X):\n",
    "        X_ = X.copy()\n",
    "        X_ = extract_time_features(X)\n",
    "        return X_[['dow','hour', 'month', 'year']]"
   ]
  },
  {
   "cell_type": "code",
   "execution_count": 14,
   "metadata": {},
   "outputs": [
    {
     "data": {
      "text/html": [
       "<div>\n",
       "<style scoped>\n",
       "    .dataframe tbody tr th:only-of-type {\n",
       "        vertical-align: middle;\n",
       "    }\n",
       "\n",
       "    .dataframe tbody tr th {\n",
       "        vertical-align: top;\n",
       "    }\n",
       "\n",
       "    .dataframe thead th {\n",
       "        text-align: right;\n",
       "    }\n",
       "</style>\n",
       "<table border=\"1\" class=\"dataframe\">\n",
       "  <thead>\n",
       "    <tr style=\"text-align: right;\">\n",
       "      <th></th>\n",
       "      <th>dow</th>\n",
       "      <th>hour</th>\n",
       "      <th>month</th>\n",
       "      <th>year</th>\n",
       "    </tr>\n",
       "  </thead>\n",
       "  <tbody>\n",
       "    <tr>\n",
       "      <th>937</th>\n",
       "      <td>3</td>\n",
       "      <td>16</td>\n",
       "      <td>3</td>\n",
       "      <td>2009</td>\n",
       "    </tr>\n",
       "    <tr>\n",
       "      <th>901</th>\n",
       "      <td>4</td>\n",
       "      <td>13</td>\n",
       "      <td>10</td>\n",
       "      <td>2012</td>\n",
       "    </tr>\n",
       "    <tr>\n",
       "      <th>510</th>\n",
       "      <td>5</td>\n",
       "      <td>18</td>\n",
       "      <td>10</td>\n",
       "      <td>2010</td>\n",
       "    </tr>\n",
       "    <tr>\n",
       "      <th>701</th>\n",
       "      <td>0</td>\n",
       "      <td>14</td>\n",
       "      <td>3</td>\n",
       "      <td>2010</td>\n",
       "    </tr>\n",
       "    <tr>\n",
       "      <th>404</th>\n",
       "      <td>3</td>\n",
       "      <td>11</td>\n",
       "      <td>2</td>\n",
       "      <td>2014</td>\n",
       "    </tr>\n",
       "  </tbody>\n",
       "</table>\n",
       "</div>"
      ],
      "text/plain": [
       "     dow  hour  month  year\n",
       "937    3    16      3  2009\n",
       "901    4    13     10  2012\n",
       "510    5    18     10  2010\n",
       "701    0    14      3  2010\n",
       "404    3    11      2  2014"
      ]
     },
     "execution_count": 14,
     "metadata": {},
     "output_type": "execute_result"
    }
   ],
   "source": [
    "# test the TimeFeaturesEncoder\n",
    "\n",
    "time_enc = TimeFeaturesEncoder('pickup_datetime')\n",
    "time_features = time_enc.fit_transform(X_train, y_train)\n",
    "time_features.head()"
   ]
  },
  {
   "cell_type": "markdown",
   "metadata": {},
   "source": [
    "###  Prepocessing pipeline"
   ]
  },
  {
   "cell_type": "code",
   "execution_count": 15,
   "metadata": {},
   "outputs": [],
   "source": [
    "# visualizing pipelines in HTML\n",
    "from sklearn import set_config; set_config(display='diagram')\n",
    "from sklearn.pipeline import Pipeline\n",
    "from sklearn.preprocessing import StandardScaler\n",
    "from sklearn.preprocessing import OneHotEncoder\n",
    "from sklearn.compose import ColumnTransformer\n",
    "from sklearn.linear_model import LinearRegression\n",
    "import math"
   ]
  },
  {
   "cell_type": "markdown",
   "metadata": {},
   "source": [
    "#### Distance pipeline\n",
    "\n",
    "Create a pipeline for distances:\n",
    "- convert the pickup and dropoff coordinates into distances with the DistanceTransformer\n",
    "- standardize these distances"
   ]
  },
  {
   "cell_type": "code",
   "execution_count": 16,
   "metadata": {},
   "outputs": [
    {
     "data": {
      "text/html": [
       "<style>#sk-58306dab-fb8e-46cd-b94f-09bbb4816031 {color: black;background-color: white;}#sk-58306dab-fb8e-46cd-b94f-09bbb4816031 pre{padding: 0;}#sk-58306dab-fb8e-46cd-b94f-09bbb4816031 div.sk-toggleable {background-color: white;}#sk-58306dab-fb8e-46cd-b94f-09bbb4816031 label.sk-toggleable__label {cursor: pointer;display: block;width: 100%;margin-bottom: 0;padding: 0.3em;box-sizing: border-box;text-align: center;}#sk-58306dab-fb8e-46cd-b94f-09bbb4816031 label.sk-toggleable__label-arrow:before {content: \"▸\";float: left;margin-right: 0.25em;color: #696969;}#sk-58306dab-fb8e-46cd-b94f-09bbb4816031 label.sk-toggleable__label-arrow:hover:before {color: black;}#sk-58306dab-fb8e-46cd-b94f-09bbb4816031 div.sk-estimator:hover label.sk-toggleable__label-arrow:before {color: black;}#sk-58306dab-fb8e-46cd-b94f-09bbb4816031 div.sk-toggleable__content {max-height: 0;max-width: 0;overflow: hidden;text-align: left;background-color: #f0f8ff;}#sk-58306dab-fb8e-46cd-b94f-09bbb4816031 div.sk-toggleable__content pre {margin: 0.2em;color: black;border-radius: 0.25em;background-color: #f0f8ff;}#sk-58306dab-fb8e-46cd-b94f-09bbb4816031 input.sk-toggleable__control:checked~div.sk-toggleable__content {max-height: 200px;max-width: 100%;overflow: auto;}#sk-58306dab-fb8e-46cd-b94f-09bbb4816031 input.sk-toggleable__control:checked~label.sk-toggleable__label-arrow:before {content: \"▾\";}#sk-58306dab-fb8e-46cd-b94f-09bbb4816031 div.sk-estimator input.sk-toggleable__control:checked~label.sk-toggleable__label {background-color: #d4ebff;}#sk-58306dab-fb8e-46cd-b94f-09bbb4816031 div.sk-label input.sk-toggleable__control:checked~label.sk-toggleable__label {background-color: #d4ebff;}#sk-58306dab-fb8e-46cd-b94f-09bbb4816031 input.sk-hidden--visually {border: 0;clip: rect(1px 1px 1px 1px);clip: rect(1px, 1px, 1px, 1px);height: 1px;margin: -1px;overflow: hidden;padding: 0;position: absolute;width: 1px;}#sk-58306dab-fb8e-46cd-b94f-09bbb4816031 div.sk-estimator {font-family: monospace;background-color: #f0f8ff;border: 1px dotted black;border-radius: 0.25em;box-sizing: border-box;margin-bottom: 0.5em;}#sk-58306dab-fb8e-46cd-b94f-09bbb4816031 div.sk-estimator:hover {background-color: #d4ebff;}#sk-58306dab-fb8e-46cd-b94f-09bbb4816031 div.sk-parallel-item::after {content: \"\";width: 100%;border-bottom: 1px solid gray;flex-grow: 1;}#sk-58306dab-fb8e-46cd-b94f-09bbb4816031 div.sk-label:hover label.sk-toggleable__label {background-color: #d4ebff;}#sk-58306dab-fb8e-46cd-b94f-09bbb4816031 div.sk-serial::before {content: \"\";position: absolute;border-left: 1px solid gray;box-sizing: border-box;top: 2em;bottom: 0;left: 50%;}#sk-58306dab-fb8e-46cd-b94f-09bbb4816031 div.sk-serial {display: flex;flex-direction: column;align-items: center;background-color: white;padding-right: 0.2em;padding-left: 0.2em;}#sk-58306dab-fb8e-46cd-b94f-09bbb4816031 div.sk-item {z-index: 1;}#sk-58306dab-fb8e-46cd-b94f-09bbb4816031 div.sk-parallel {display: flex;align-items: stretch;justify-content: center;background-color: white;}#sk-58306dab-fb8e-46cd-b94f-09bbb4816031 div.sk-parallel::before {content: \"\";position: absolute;border-left: 1px solid gray;box-sizing: border-box;top: 2em;bottom: 0;left: 50%;}#sk-58306dab-fb8e-46cd-b94f-09bbb4816031 div.sk-parallel-item {display: flex;flex-direction: column;position: relative;background-color: white;}#sk-58306dab-fb8e-46cd-b94f-09bbb4816031 div.sk-parallel-item:first-child::after {align-self: flex-end;width: 50%;}#sk-58306dab-fb8e-46cd-b94f-09bbb4816031 div.sk-parallel-item:last-child::after {align-self: flex-start;width: 50%;}#sk-58306dab-fb8e-46cd-b94f-09bbb4816031 div.sk-parallel-item:only-child::after {width: 0;}#sk-58306dab-fb8e-46cd-b94f-09bbb4816031 div.sk-dashed-wrapped {border: 1px dashed gray;margin: 0 0.4em 0.5em 0.4em;box-sizing: border-box;padding-bottom: 0.4em;background-color: white;position: relative;}#sk-58306dab-fb8e-46cd-b94f-09bbb4816031 div.sk-label label {font-family: monospace;font-weight: bold;background-color: white;display: inline-block;line-height: 1.2em;}#sk-58306dab-fb8e-46cd-b94f-09bbb4816031 div.sk-label-container {position: relative;z-index: 2;text-align: center;}#sk-58306dab-fb8e-46cd-b94f-09bbb4816031 div.sk-container {/* jupyter's `normalize.less` sets `[hidden] { display: none; }` but bootstrap.min.css set `[hidden] { display: none !important; }` so we also need the `!important` here to be able to override the default hidden behavior on the sphinx rendered scikit-learn.org. See: https://github.com/scikit-learn/scikit-learn/issues/21755 */display: inline-block !important;position: relative;}#sk-58306dab-fb8e-46cd-b94f-09bbb4816031 div.sk-text-repr-fallback {display: none;}</style><div id=\"sk-58306dab-fb8e-46cd-b94f-09bbb4816031\" class=\"sk-top-container\"><div class=\"sk-text-repr-fallback\"><pre>Pipeline(steps=[(&#x27;dist_trans&#x27;, DistanceTransformer()),\n",
       "                (&#x27;stdscaler&#x27;, StandardScaler())])</pre><b>Please rerun this cell to show the HTML repr or trust the notebook.</b></div><div class=\"sk-container\" hidden><div class=\"sk-item sk-dashed-wrapped\"><div class=\"sk-label-container\"><div class=\"sk-label sk-toggleable\"><input class=\"sk-toggleable__control sk-hidden--visually\" id=\"652cd263-5fb2-4b59-83b0-c015dbd4aba3\" type=\"checkbox\" ><label for=\"652cd263-5fb2-4b59-83b0-c015dbd4aba3\" class=\"sk-toggleable__label sk-toggleable__label-arrow\">Pipeline</label><div class=\"sk-toggleable__content\"><pre>Pipeline(steps=[(&#x27;dist_trans&#x27;, DistanceTransformer()),\n",
       "                (&#x27;stdscaler&#x27;, StandardScaler())])</pre></div></div></div><div class=\"sk-serial\"><div class=\"sk-item\"><div class=\"sk-estimator sk-toggleable\"><input class=\"sk-toggleable__control sk-hidden--visually\" id=\"7f3883c9-65bc-444f-9576-cea5f7d65626\" type=\"checkbox\" ><label for=\"7f3883c9-65bc-444f-9576-cea5f7d65626\" class=\"sk-toggleable__label sk-toggleable__label-arrow\">DistanceTransformer</label><div class=\"sk-toggleable__content\"><pre>DistanceTransformer()</pre></div></div></div><div class=\"sk-item\"><div class=\"sk-estimator sk-toggleable\"><input class=\"sk-toggleable__control sk-hidden--visually\" id=\"f6b8633a-d3b7-432e-9922-cbe0c8fe3fdf\" type=\"checkbox\" ><label for=\"f6b8633a-d3b7-432e-9922-cbe0c8fe3fdf\" class=\"sk-toggleable__label sk-toggleable__label-arrow\">StandardScaler</label><div class=\"sk-toggleable__content\"><pre>StandardScaler()</pre></div></div></div></div></div></div></div>"
      ],
      "text/plain": [
       "Pipeline(steps=[('dist_trans', DistanceTransformer()),\n",
       "                ('stdscaler', StandardScaler())])"
      ]
     },
     "execution_count": 16,
     "metadata": {},
     "output_type": "execute_result"
    }
   ],
   "source": [
    "# create distance pipeline dist_pipe\n",
    "dist_pipe = Pipeline([('dist_trans', DistanceTransformer()),('stdscaler', StandardScaler())])\n",
    "\n",
    "# display distance pipeline\n",
    "dist_pipe"
   ]
  },
  {
   "cell_type": "markdown",
   "metadata": {},
   "source": [
    "#### Time features pipeline\n",
    "\n",
    "Create a pipeline for time features\n",
    "- extract time features from pickup datetime with the TimeFeaturesEncoder\n",
    "- encode these categorical time features with the OneHotEncoder"
   ]
  },
  {
   "cell_type": "code",
   "execution_count": 17,
   "metadata": {},
   "outputs": [
    {
     "data": {
      "text/html": [
       "<style>#sk-d0609574-f3b0-4df7-804c-3dac406f6bed {color: black;background-color: white;}#sk-d0609574-f3b0-4df7-804c-3dac406f6bed pre{padding: 0;}#sk-d0609574-f3b0-4df7-804c-3dac406f6bed div.sk-toggleable {background-color: white;}#sk-d0609574-f3b0-4df7-804c-3dac406f6bed label.sk-toggleable__label {cursor: pointer;display: block;width: 100%;margin-bottom: 0;padding: 0.3em;box-sizing: border-box;text-align: center;}#sk-d0609574-f3b0-4df7-804c-3dac406f6bed label.sk-toggleable__label-arrow:before {content: \"▸\";float: left;margin-right: 0.25em;color: #696969;}#sk-d0609574-f3b0-4df7-804c-3dac406f6bed label.sk-toggleable__label-arrow:hover:before {color: black;}#sk-d0609574-f3b0-4df7-804c-3dac406f6bed div.sk-estimator:hover label.sk-toggleable__label-arrow:before {color: black;}#sk-d0609574-f3b0-4df7-804c-3dac406f6bed div.sk-toggleable__content {max-height: 0;max-width: 0;overflow: hidden;text-align: left;background-color: #f0f8ff;}#sk-d0609574-f3b0-4df7-804c-3dac406f6bed div.sk-toggleable__content pre {margin: 0.2em;color: black;border-radius: 0.25em;background-color: #f0f8ff;}#sk-d0609574-f3b0-4df7-804c-3dac406f6bed input.sk-toggleable__control:checked~div.sk-toggleable__content {max-height: 200px;max-width: 100%;overflow: auto;}#sk-d0609574-f3b0-4df7-804c-3dac406f6bed input.sk-toggleable__control:checked~label.sk-toggleable__label-arrow:before {content: \"▾\";}#sk-d0609574-f3b0-4df7-804c-3dac406f6bed div.sk-estimator input.sk-toggleable__control:checked~label.sk-toggleable__label {background-color: #d4ebff;}#sk-d0609574-f3b0-4df7-804c-3dac406f6bed div.sk-label input.sk-toggleable__control:checked~label.sk-toggleable__label {background-color: #d4ebff;}#sk-d0609574-f3b0-4df7-804c-3dac406f6bed input.sk-hidden--visually {border: 0;clip: rect(1px 1px 1px 1px);clip: rect(1px, 1px, 1px, 1px);height: 1px;margin: -1px;overflow: hidden;padding: 0;position: absolute;width: 1px;}#sk-d0609574-f3b0-4df7-804c-3dac406f6bed div.sk-estimator {font-family: monospace;background-color: #f0f8ff;border: 1px dotted black;border-radius: 0.25em;box-sizing: border-box;margin-bottom: 0.5em;}#sk-d0609574-f3b0-4df7-804c-3dac406f6bed div.sk-estimator:hover {background-color: #d4ebff;}#sk-d0609574-f3b0-4df7-804c-3dac406f6bed div.sk-parallel-item::after {content: \"\";width: 100%;border-bottom: 1px solid gray;flex-grow: 1;}#sk-d0609574-f3b0-4df7-804c-3dac406f6bed div.sk-label:hover label.sk-toggleable__label {background-color: #d4ebff;}#sk-d0609574-f3b0-4df7-804c-3dac406f6bed div.sk-serial::before {content: \"\";position: absolute;border-left: 1px solid gray;box-sizing: border-box;top: 2em;bottom: 0;left: 50%;}#sk-d0609574-f3b0-4df7-804c-3dac406f6bed div.sk-serial {display: flex;flex-direction: column;align-items: center;background-color: white;padding-right: 0.2em;padding-left: 0.2em;}#sk-d0609574-f3b0-4df7-804c-3dac406f6bed div.sk-item {z-index: 1;}#sk-d0609574-f3b0-4df7-804c-3dac406f6bed div.sk-parallel {display: flex;align-items: stretch;justify-content: center;background-color: white;}#sk-d0609574-f3b0-4df7-804c-3dac406f6bed div.sk-parallel::before {content: \"\";position: absolute;border-left: 1px solid gray;box-sizing: border-box;top: 2em;bottom: 0;left: 50%;}#sk-d0609574-f3b0-4df7-804c-3dac406f6bed div.sk-parallel-item {display: flex;flex-direction: column;position: relative;background-color: white;}#sk-d0609574-f3b0-4df7-804c-3dac406f6bed div.sk-parallel-item:first-child::after {align-self: flex-end;width: 50%;}#sk-d0609574-f3b0-4df7-804c-3dac406f6bed div.sk-parallel-item:last-child::after {align-self: flex-start;width: 50%;}#sk-d0609574-f3b0-4df7-804c-3dac406f6bed div.sk-parallel-item:only-child::after {width: 0;}#sk-d0609574-f3b0-4df7-804c-3dac406f6bed div.sk-dashed-wrapped {border: 1px dashed gray;margin: 0 0.4em 0.5em 0.4em;box-sizing: border-box;padding-bottom: 0.4em;background-color: white;position: relative;}#sk-d0609574-f3b0-4df7-804c-3dac406f6bed div.sk-label label {font-family: monospace;font-weight: bold;background-color: white;display: inline-block;line-height: 1.2em;}#sk-d0609574-f3b0-4df7-804c-3dac406f6bed div.sk-label-container {position: relative;z-index: 2;text-align: center;}#sk-d0609574-f3b0-4df7-804c-3dac406f6bed div.sk-container {/* jupyter's `normalize.less` sets `[hidden] { display: none; }` but bootstrap.min.css set `[hidden] { display: none !important; }` so we also need the `!important` here to be able to override the default hidden behavior on the sphinx rendered scikit-learn.org. See: https://github.com/scikit-learn/scikit-learn/issues/21755 */display: inline-block !important;position: relative;}#sk-d0609574-f3b0-4df7-804c-3dac406f6bed div.sk-text-repr-fallback {display: none;}</style><div id=\"sk-d0609574-f3b0-4df7-804c-3dac406f6bed\" class=\"sk-top-container\"><div class=\"sk-text-repr-fallback\"><pre>Pipeline(steps=[(&#x27;time_enc&#x27;, TimeFeaturesEncoder()),\n",
       "                (&#x27;ohe&#x27;, OneHotEncoder(handle_unknown=&#x27;ignore&#x27;))])</pre><b>Please rerun this cell to show the HTML repr or trust the notebook.</b></div><div class=\"sk-container\" hidden><div class=\"sk-item sk-dashed-wrapped\"><div class=\"sk-label-container\"><div class=\"sk-label sk-toggleable\"><input class=\"sk-toggleable__control sk-hidden--visually\" id=\"35affd73-0eaf-4d37-9eb5-4d0943cdda69\" type=\"checkbox\" ><label for=\"35affd73-0eaf-4d37-9eb5-4d0943cdda69\" class=\"sk-toggleable__label sk-toggleable__label-arrow\">Pipeline</label><div class=\"sk-toggleable__content\"><pre>Pipeline(steps=[(&#x27;time_enc&#x27;, TimeFeaturesEncoder()),\n",
       "                (&#x27;ohe&#x27;, OneHotEncoder(handle_unknown=&#x27;ignore&#x27;))])</pre></div></div></div><div class=\"sk-serial\"><div class=\"sk-item\"><div class=\"sk-estimator sk-toggleable\"><input class=\"sk-toggleable__control sk-hidden--visually\" id=\"7940cec4-8baa-4c2e-9b89-2203c22490bc\" type=\"checkbox\" ><label for=\"7940cec4-8baa-4c2e-9b89-2203c22490bc\" class=\"sk-toggleable__label sk-toggleable__label-arrow\">TimeFeaturesEncoder</label><div class=\"sk-toggleable__content\"><pre>TimeFeaturesEncoder()</pre></div></div></div><div class=\"sk-item\"><div class=\"sk-estimator sk-toggleable\"><input class=\"sk-toggleable__control sk-hidden--visually\" id=\"383cae74-146b-40e7-85b2-902d4397e068\" type=\"checkbox\" ><label for=\"383cae74-146b-40e7-85b2-902d4397e068\" class=\"sk-toggleable__label sk-toggleable__label-arrow\">OneHotEncoder</label><div class=\"sk-toggleable__content\"><pre>OneHotEncoder(handle_unknown=&#x27;ignore&#x27;)</pre></div></div></div></div></div></div></div>"
      ],
      "text/plain": [
       "Pipeline(steps=[('time_enc', TimeFeaturesEncoder()),\n",
       "                ('ohe', OneHotEncoder(handle_unknown='ignore'))])"
      ]
     },
     "execution_count": 17,
     "metadata": {},
     "output_type": "execute_result"
    }
   ],
   "source": [
    "\n",
    "# create time pipeline time_pipe\n",
    "time_pipe = Pipeline([('time_enc', TimeFeaturesEncoder()),('ohe', OneHotEncoder(handle_unknown='ignore'))])\n",
    "\n",
    "# display time pipeline\n",
    "time_pipe"
   ]
  },
  {
   "cell_type": "markdown",
   "metadata": {},
   "source": [
    "#### Preprocessing pipeline\n",
    "\n",
    "Wrap up the distance pipeline and the time pipeline into a preprocessing pipeline."
   ]
  },
  {
   "cell_type": "code",
   "execution_count": 18,
   "metadata": {},
   "outputs": [
    {
     "data": {
      "text/html": [
       "<style>#sk-17165327-b2d9-40ce-867a-fc13233cb641 {color: black;background-color: white;}#sk-17165327-b2d9-40ce-867a-fc13233cb641 pre{padding: 0;}#sk-17165327-b2d9-40ce-867a-fc13233cb641 div.sk-toggleable {background-color: white;}#sk-17165327-b2d9-40ce-867a-fc13233cb641 label.sk-toggleable__label {cursor: pointer;display: block;width: 100%;margin-bottom: 0;padding: 0.3em;box-sizing: border-box;text-align: center;}#sk-17165327-b2d9-40ce-867a-fc13233cb641 label.sk-toggleable__label-arrow:before {content: \"▸\";float: left;margin-right: 0.25em;color: #696969;}#sk-17165327-b2d9-40ce-867a-fc13233cb641 label.sk-toggleable__label-arrow:hover:before {color: black;}#sk-17165327-b2d9-40ce-867a-fc13233cb641 div.sk-estimator:hover label.sk-toggleable__label-arrow:before {color: black;}#sk-17165327-b2d9-40ce-867a-fc13233cb641 div.sk-toggleable__content {max-height: 0;max-width: 0;overflow: hidden;text-align: left;background-color: #f0f8ff;}#sk-17165327-b2d9-40ce-867a-fc13233cb641 div.sk-toggleable__content pre {margin: 0.2em;color: black;border-radius: 0.25em;background-color: #f0f8ff;}#sk-17165327-b2d9-40ce-867a-fc13233cb641 input.sk-toggleable__control:checked~div.sk-toggleable__content {max-height: 200px;max-width: 100%;overflow: auto;}#sk-17165327-b2d9-40ce-867a-fc13233cb641 input.sk-toggleable__control:checked~label.sk-toggleable__label-arrow:before {content: \"▾\";}#sk-17165327-b2d9-40ce-867a-fc13233cb641 div.sk-estimator input.sk-toggleable__control:checked~label.sk-toggleable__label {background-color: #d4ebff;}#sk-17165327-b2d9-40ce-867a-fc13233cb641 div.sk-label input.sk-toggleable__control:checked~label.sk-toggleable__label {background-color: #d4ebff;}#sk-17165327-b2d9-40ce-867a-fc13233cb641 input.sk-hidden--visually {border: 0;clip: rect(1px 1px 1px 1px);clip: rect(1px, 1px, 1px, 1px);height: 1px;margin: -1px;overflow: hidden;padding: 0;position: absolute;width: 1px;}#sk-17165327-b2d9-40ce-867a-fc13233cb641 div.sk-estimator {font-family: monospace;background-color: #f0f8ff;border: 1px dotted black;border-radius: 0.25em;box-sizing: border-box;margin-bottom: 0.5em;}#sk-17165327-b2d9-40ce-867a-fc13233cb641 div.sk-estimator:hover {background-color: #d4ebff;}#sk-17165327-b2d9-40ce-867a-fc13233cb641 div.sk-parallel-item::after {content: \"\";width: 100%;border-bottom: 1px solid gray;flex-grow: 1;}#sk-17165327-b2d9-40ce-867a-fc13233cb641 div.sk-label:hover label.sk-toggleable__label {background-color: #d4ebff;}#sk-17165327-b2d9-40ce-867a-fc13233cb641 div.sk-serial::before {content: \"\";position: absolute;border-left: 1px solid gray;box-sizing: border-box;top: 2em;bottom: 0;left: 50%;}#sk-17165327-b2d9-40ce-867a-fc13233cb641 div.sk-serial {display: flex;flex-direction: column;align-items: center;background-color: white;padding-right: 0.2em;padding-left: 0.2em;}#sk-17165327-b2d9-40ce-867a-fc13233cb641 div.sk-item {z-index: 1;}#sk-17165327-b2d9-40ce-867a-fc13233cb641 div.sk-parallel {display: flex;align-items: stretch;justify-content: center;background-color: white;}#sk-17165327-b2d9-40ce-867a-fc13233cb641 div.sk-parallel::before {content: \"\";position: absolute;border-left: 1px solid gray;box-sizing: border-box;top: 2em;bottom: 0;left: 50%;}#sk-17165327-b2d9-40ce-867a-fc13233cb641 div.sk-parallel-item {display: flex;flex-direction: column;position: relative;background-color: white;}#sk-17165327-b2d9-40ce-867a-fc13233cb641 div.sk-parallel-item:first-child::after {align-self: flex-end;width: 50%;}#sk-17165327-b2d9-40ce-867a-fc13233cb641 div.sk-parallel-item:last-child::after {align-self: flex-start;width: 50%;}#sk-17165327-b2d9-40ce-867a-fc13233cb641 div.sk-parallel-item:only-child::after {width: 0;}#sk-17165327-b2d9-40ce-867a-fc13233cb641 div.sk-dashed-wrapped {border: 1px dashed gray;margin: 0 0.4em 0.5em 0.4em;box-sizing: border-box;padding-bottom: 0.4em;background-color: white;position: relative;}#sk-17165327-b2d9-40ce-867a-fc13233cb641 div.sk-label label {font-family: monospace;font-weight: bold;background-color: white;display: inline-block;line-height: 1.2em;}#sk-17165327-b2d9-40ce-867a-fc13233cb641 div.sk-label-container {position: relative;z-index: 2;text-align: center;}#sk-17165327-b2d9-40ce-867a-fc13233cb641 div.sk-container {/* jupyter's `normalize.less` sets `[hidden] { display: none; }` but bootstrap.min.css set `[hidden] { display: none !important; }` so we also need the `!important` here to be able to override the default hidden behavior on the sphinx rendered scikit-learn.org. See: https://github.com/scikit-learn/scikit-learn/issues/21755 */display: inline-block !important;position: relative;}#sk-17165327-b2d9-40ce-867a-fc13233cb641 div.sk-text-repr-fallback {display: none;}</style><div id=\"sk-17165327-b2d9-40ce-867a-fc13233cb641\" class=\"sk-top-container\"><div class=\"sk-text-repr-fallback\"><pre>ColumnTransformer(transformers=[(&#x27;distance&#x27;,\n",
       "                                 Pipeline(steps=[(&#x27;dist_trans&#x27;,\n",
       "                                                  DistanceTransformer()),\n",
       "                                                 (&#x27;stdscaler&#x27;,\n",
       "                                                  StandardScaler())]),\n",
       "                                 [&#x27;pickup_latitude&#x27;, &#x27;pickup_longitude&#x27;,\n",
       "                                  &#x27;dropoff_latitude&#x27;, &#x27;dropoff_longitude&#x27;]),\n",
       "                                (&#x27;time&#x27;,\n",
       "                                 Pipeline(steps=[(&#x27;time_enc&#x27;,\n",
       "                                                  TimeFeaturesEncoder()),\n",
       "                                                 (&#x27;ohe&#x27;,\n",
       "                                                  OneHotEncoder(handle_unknown=&#x27;ignore&#x27;))]),\n",
       "                                 [&#x27;pickup_datetime&#x27;])])</pre><b>Please rerun this cell to show the HTML repr or trust the notebook.</b></div><div class=\"sk-container\" hidden><div class=\"sk-item sk-dashed-wrapped\"><div class=\"sk-label-container\"><div class=\"sk-label sk-toggleable\"><input class=\"sk-toggleable__control sk-hidden--visually\" id=\"6ab9a5fc-5c69-4629-85b6-793319f75938\" type=\"checkbox\" ><label for=\"6ab9a5fc-5c69-4629-85b6-793319f75938\" class=\"sk-toggleable__label sk-toggleable__label-arrow\">ColumnTransformer</label><div class=\"sk-toggleable__content\"><pre>ColumnTransformer(transformers=[(&#x27;distance&#x27;,\n",
       "                                 Pipeline(steps=[(&#x27;dist_trans&#x27;,\n",
       "                                                  DistanceTransformer()),\n",
       "                                                 (&#x27;stdscaler&#x27;,\n",
       "                                                  StandardScaler())]),\n",
       "                                 [&#x27;pickup_latitude&#x27;, &#x27;pickup_longitude&#x27;,\n",
       "                                  &#x27;dropoff_latitude&#x27;, &#x27;dropoff_longitude&#x27;]),\n",
       "                                (&#x27;time&#x27;,\n",
       "                                 Pipeline(steps=[(&#x27;time_enc&#x27;,\n",
       "                                                  TimeFeaturesEncoder()),\n",
       "                                                 (&#x27;ohe&#x27;,\n",
       "                                                  OneHotEncoder(handle_unknown=&#x27;ignore&#x27;))]),\n",
       "                                 [&#x27;pickup_datetime&#x27;])])</pre></div></div></div><div class=\"sk-parallel\"><div class=\"sk-parallel-item\"><div class=\"sk-item\"><div class=\"sk-label-container\"><div class=\"sk-label sk-toggleable\"><input class=\"sk-toggleable__control sk-hidden--visually\" id=\"036c6252-3df9-4515-86ee-76f0d4e904b5\" type=\"checkbox\" ><label for=\"036c6252-3df9-4515-86ee-76f0d4e904b5\" class=\"sk-toggleable__label sk-toggleable__label-arrow\">distance</label><div class=\"sk-toggleable__content\"><pre>[&#x27;pickup_latitude&#x27;, &#x27;pickup_longitude&#x27;, &#x27;dropoff_latitude&#x27;, &#x27;dropoff_longitude&#x27;]</pre></div></div></div><div class=\"sk-serial\"><div class=\"sk-item\"><div class=\"sk-serial\"><div class=\"sk-item\"><div class=\"sk-estimator sk-toggleable\"><input class=\"sk-toggleable__control sk-hidden--visually\" id=\"5a73bb67-bc48-4992-a370-840d56a34bd3\" type=\"checkbox\" ><label for=\"5a73bb67-bc48-4992-a370-840d56a34bd3\" class=\"sk-toggleable__label sk-toggleable__label-arrow\">DistanceTransformer</label><div class=\"sk-toggleable__content\"><pre>DistanceTransformer()</pre></div></div></div><div class=\"sk-item\"><div class=\"sk-estimator sk-toggleable\"><input class=\"sk-toggleable__control sk-hidden--visually\" id=\"4744e12e-ba32-4b59-a516-537146a8af3a\" type=\"checkbox\" ><label for=\"4744e12e-ba32-4b59-a516-537146a8af3a\" class=\"sk-toggleable__label sk-toggleable__label-arrow\">StandardScaler</label><div class=\"sk-toggleable__content\"><pre>StandardScaler()</pre></div></div></div></div></div></div></div></div><div class=\"sk-parallel-item\"><div class=\"sk-item\"><div class=\"sk-label-container\"><div class=\"sk-label sk-toggleable\"><input class=\"sk-toggleable__control sk-hidden--visually\" id=\"28c17ddb-fe10-4bbc-a3eb-02f505cd7427\" type=\"checkbox\" ><label for=\"28c17ddb-fe10-4bbc-a3eb-02f505cd7427\" class=\"sk-toggleable__label sk-toggleable__label-arrow\">time</label><div class=\"sk-toggleable__content\"><pre>[&#x27;pickup_datetime&#x27;]</pre></div></div></div><div class=\"sk-serial\"><div class=\"sk-item\"><div class=\"sk-serial\"><div class=\"sk-item\"><div class=\"sk-estimator sk-toggleable\"><input class=\"sk-toggleable__control sk-hidden--visually\" id=\"49e6a686-9487-4a4c-8b9c-7974648cfeee\" type=\"checkbox\" ><label for=\"49e6a686-9487-4a4c-8b9c-7974648cfeee\" class=\"sk-toggleable__label sk-toggleable__label-arrow\">TimeFeaturesEncoder</label><div class=\"sk-toggleable__content\"><pre>TimeFeaturesEncoder()</pre></div></div></div><div class=\"sk-item\"><div class=\"sk-estimator sk-toggleable\"><input class=\"sk-toggleable__control sk-hidden--visually\" id=\"b8cd8dca-d10c-4224-a010-d247c6710b9e\" type=\"checkbox\" ><label for=\"b8cd8dca-d10c-4224-a010-d247c6710b9e\" class=\"sk-toggleable__label sk-toggleable__label-arrow\">OneHotEncoder</label><div class=\"sk-toggleable__content\"><pre>OneHotEncoder(handle_unknown=&#x27;ignore&#x27;)</pre></div></div></div></div></div></div></div></div></div></div></div></div>"
      ],
      "text/plain": [
       "ColumnTransformer(transformers=[('distance',\n",
       "                                 Pipeline(steps=[('dist_trans',\n",
       "                                                  DistanceTransformer()),\n",
       "                                                 ('stdscaler',\n",
       "                                                  StandardScaler())]),\n",
       "                                 ['pickup_latitude', 'pickup_longitude',\n",
       "                                  'dropoff_latitude', 'dropoff_longitude']),\n",
       "                                ('time',\n",
       "                                 Pipeline(steps=[('time_enc',\n",
       "                                                  TimeFeaturesEncoder()),\n",
       "                                                 ('ohe',\n",
       "                                                  OneHotEncoder(handle_unknown='ignore'))]),\n",
       "                                 ['pickup_datetime'])])"
      ]
     },
     "execution_count": 18,
     "metadata": {},
     "output_type": "execute_result"
    }
   ],
   "source": [
    "# create preprocessing pipeline preproc_pipe\n",
    "preproc_pipe = ColumnTransformer(\n",
    "    transformers=[\n",
    "        ('distance', Pipeline(steps=[('dist_trans',DistanceTransformer()),\n",
    "                                     ('stdscaler',StandardScaler())]),\n",
    "                                 ['pickup_latitude', 'pickup_longitude',\n",
    "                                  'dropoff_latitude', 'dropoff_longitude']),\n",
    "        ('time', Pipeline(steps=[('time_enc',TimeFeaturesEncoder()),\n",
    "                                ('ohe',OneHotEncoder(handle_unknown='ignore'))]),\n",
    "                                 ['pickup_datetime'])])\n",
    "# display preprocessing pipeline\n",
    "preproc_pipe.fit(X_train, y_train)"
   ]
  },
  {
   "cell_type": "code",
   "execution_count": 19,
   "metadata": {},
   "outputs": [
    {
     "data": {
      "text/html": [
       "<style>#sk-71c320f5-9d1e-482e-a929-4225385c3528 {color: black;background-color: white;}#sk-71c320f5-9d1e-482e-a929-4225385c3528 pre{padding: 0;}#sk-71c320f5-9d1e-482e-a929-4225385c3528 div.sk-toggleable {background-color: white;}#sk-71c320f5-9d1e-482e-a929-4225385c3528 label.sk-toggleable__label {cursor: pointer;display: block;width: 100%;margin-bottom: 0;padding: 0.3em;box-sizing: border-box;text-align: center;}#sk-71c320f5-9d1e-482e-a929-4225385c3528 label.sk-toggleable__label-arrow:before {content: \"▸\";float: left;margin-right: 0.25em;color: #696969;}#sk-71c320f5-9d1e-482e-a929-4225385c3528 label.sk-toggleable__label-arrow:hover:before {color: black;}#sk-71c320f5-9d1e-482e-a929-4225385c3528 div.sk-estimator:hover label.sk-toggleable__label-arrow:before {color: black;}#sk-71c320f5-9d1e-482e-a929-4225385c3528 div.sk-toggleable__content {max-height: 0;max-width: 0;overflow: hidden;text-align: left;background-color: #f0f8ff;}#sk-71c320f5-9d1e-482e-a929-4225385c3528 div.sk-toggleable__content pre {margin: 0.2em;color: black;border-radius: 0.25em;background-color: #f0f8ff;}#sk-71c320f5-9d1e-482e-a929-4225385c3528 input.sk-toggleable__control:checked~div.sk-toggleable__content {max-height: 200px;max-width: 100%;overflow: auto;}#sk-71c320f5-9d1e-482e-a929-4225385c3528 input.sk-toggleable__control:checked~label.sk-toggleable__label-arrow:before {content: \"▾\";}#sk-71c320f5-9d1e-482e-a929-4225385c3528 div.sk-estimator input.sk-toggleable__control:checked~label.sk-toggleable__label {background-color: #d4ebff;}#sk-71c320f5-9d1e-482e-a929-4225385c3528 div.sk-label input.sk-toggleable__control:checked~label.sk-toggleable__label {background-color: #d4ebff;}#sk-71c320f5-9d1e-482e-a929-4225385c3528 input.sk-hidden--visually {border: 0;clip: rect(1px 1px 1px 1px);clip: rect(1px, 1px, 1px, 1px);height: 1px;margin: -1px;overflow: hidden;padding: 0;position: absolute;width: 1px;}#sk-71c320f5-9d1e-482e-a929-4225385c3528 div.sk-estimator {font-family: monospace;background-color: #f0f8ff;border: 1px dotted black;border-radius: 0.25em;box-sizing: border-box;margin-bottom: 0.5em;}#sk-71c320f5-9d1e-482e-a929-4225385c3528 div.sk-estimator:hover {background-color: #d4ebff;}#sk-71c320f5-9d1e-482e-a929-4225385c3528 div.sk-parallel-item::after {content: \"\";width: 100%;border-bottom: 1px solid gray;flex-grow: 1;}#sk-71c320f5-9d1e-482e-a929-4225385c3528 div.sk-label:hover label.sk-toggleable__label {background-color: #d4ebff;}#sk-71c320f5-9d1e-482e-a929-4225385c3528 div.sk-serial::before {content: \"\";position: absolute;border-left: 1px solid gray;box-sizing: border-box;top: 2em;bottom: 0;left: 50%;}#sk-71c320f5-9d1e-482e-a929-4225385c3528 div.sk-serial {display: flex;flex-direction: column;align-items: center;background-color: white;padding-right: 0.2em;padding-left: 0.2em;}#sk-71c320f5-9d1e-482e-a929-4225385c3528 div.sk-item {z-index: 1;}#sk-71c320f5-9d1e-482e-a929-4225385c3528 div.sk-parallel {display: flex;align-items: stretch;justify-content: center;background-color: white;}#sk-71c320f5-9d1e-482e-a929-4225385c3528 div.sk-parallel::before {content: \"\";position: absolute;border-left: 1px solid gray;box-sizing: border-box;top: 2em;bottom: 0;left: 50%;}#sk-71c320f5-9d1e-482e-a929-4225385c3528 div.sk-parallel-item {display: flex;flex-direction: column;position: relative;background-color: white;}#sk-71c320f5-9d1e-482e-a929-4225385c3528 div.sk-parallel-item:first-child::after {align-self: flex-end;width: 50%;}#sk-71c320f5-9d1e-482e-a929-4225385c3528 div.sk-parallel-item:last-child::after {align-self: flex-start;width: 50%;}#sk-71c320f5-9d1e-482e-a929-4225385c3528 div.sk-parallel-item:only-child::after {width: 0;}#sk-71c320f5-9d1e-482e-a929-4225385c3528 div.sk-dashed-wrapped {border: 1px dashed gray;margin: 0 0.4em 0.5em 0.4em;box-sizing: border-box;padding-bottom: 0.4em;background-color: white;position: relative;}#sk-71c320f5-9d1e-482e-a929-4225385c3528 div.sk-label label {font-family: monospace;font-weight: bold;background-color: white;display: inline-block;line-height: 1.2em;}#sk-71c320f5-9d1e-482e-a929-4225385c3528 div.sk-label-container {position: relative;z-index: 2;text-align: center;}#sk-71c320f5-9d1e-482e-a929-4225385c3528 div.sk-container {/* jupyter's `normalize.less` sets `[hidden] { display: none; }` but bootstrap.min.css set `[hidden] { display: none !important; }` so we also need the `!important` here to be able to override the default hidden behavior on the sphinx rendered scikit-learn.org. See: https://github.com/scikit-learn/scikit-learn/issues/21755 */display: inline-block !important;position: relative;}#sk-71c320f5-9d1e-482e-a929-4225385c3528 div.sk-text-repr-fallback {display: none;}</style><div id=\"sk-71c320f5-9d1e-482e-a929-4225385c3528\" class=\"sk-top-container\"><div class=\"sk-text-repr-fallback\"><pre>ColumnTransformer(transformers=[(&#x27;distance&#x27;,\n",
       "                                 Pipeline(steps=[(&#x27;dist_trans&#x27;,\n",
       "                                                  DistanceTransformer()),\n",
       "                                                 (&#x27;stdscaler&#x27;,\n",
       "                                                  StandardScaler())]),\n",
       "                                 [&#x27;pickup_latitude&#x27;, &#x27;pickup_longitude&#x27;,\n",
       "                                  &#x27;dropoff_latitude&#x27;, &#x27;dropoff_longitude&#x27;]),\n",
       "                                (&#x27;time&#x27;,\n",
       "                                 Pipeline(steps=[(&#x27;time_enc&#x27;,\n",
       "                                                  TimeFeaturesEncoder()),\n",
       "                                                 (&#x27;ohe&#x27;,\n",
       "                                                  OneHotEncoder(handle_unknown=&#x27;ignore&#x27;))]),\n",
       "                                 [&#x27;pickup_datetime&#x27;])])</pre><b>Please rerun this cell to show the HTML repr or trust the notebook.</b></div><div class=\"sk-container\" hidden><div class=\"sk-item sk-dashed-wrapped\"><div class=\"sk-label-container\"><div class=\"sk-label sk-toggleable\"><input class=\"sk-toggleable__control sk-hidden--visually\" id=\"8bec70a4-1896-4c7d-994b-2bc288b3b931\" type=\"checkbox\" ><label for=\"8bec70a4-1896-4c7d-994b-2bc288b3b931\" class=\"sk-toggleable__label sk-toggleable__label-arrow\">ColumnTransformer</label><div class=\"sk-toggleable__content\"><pre>ColumnTransformer(transformers=[(&#x27;distance&#x27;,\n",
       "                                 Pipeline(steps=[(&#x27;dist_trans&#x27;,\n",
       "                                                  DistanceTransformer()),\n",
       "                                                 (&#x27;stdscaler&#x27;,\n",
       "                                                  StandardScaler())]),\n",
       "                                 [&#x27;pickup_latitude&#x27;, &#x27;pickup_longitude&#x27;,\n",
       "                                  &#x27;dropoff_latitude&#x27;, &#x27;dropoff_longitude&#x27;]),\n",
       "                                (&#x27;time&#x27;,\n",
       "                                 Pipeline(steps=[(&#x27;time_enc&#x27;,\n",
       "                                                  TimeFeaturesEncoder()),\n",
       "                                                 (&#x27;ohe&#x27;,\n",
       "                                                  OneHotEncoder(handle_unknown=&#x27;ignore&#x27;))]),\n",
       "                                 [&#x27;pickup_datetime&#x27;])])</pre></div></div></div><div class=\"sk-parallel\"><div class=\"sk-parallel-item\"><div class=\"sk-item\"><div class=\"sk-label-container\"><div class=\"sk-label sk-toggleable\"><input class=\"sk-toggleable__control sk-hidden--visually\" id=\"2b276a07-b85c-4e3e-8d63-8bf4606444fb\" type=\"checkbox\" ><label for=\"2b276a07-b85c-4e3e-8d63-8bf4606444fb\" class=\"sk-toggleable__label sk-toggleable__label-arrow\">distance</label><div class=\"sk-toggleable__content\"><pre>[&#x27;pickup_latitude&#x27;, &#x27;pickup_longitude&#x27;, &#x27;dropoff_latitude&#x27;, &#x27;dropoff_longitude&#x27;]</pre></div></div></div><div class=\"sk-serial\"><div class=\"sk-item\"><div class=\"sk-serial\"><div class=\"sk-item\"><div class=\"sk-estimator sk-toggleable\"><input class=\"sk-toggleable__control sk-hidden--visually\" id=\"d966bf42-a2b1-4f15-b904-b1f2ba728ca0\" type=\"checkbox\" ><label for=\"d966bf42-a2b1-4f15-b904-b1f2ba728ca0\" class=\"sk-toggleable__label sk-toggleable__label-arrow\">DistanceTransformer</label><div class=\"sk-toggleable__content\"><pre>DistanceTransformer()</pre></div></div></div><div class=\"sk-item\"><div class=\"sk-estimator sk-toggleable\"><input class=\"sk-toggleable__control sk-hidden--visually\" id=\"d9c59486-5e6c-4740-adfe-ee3bc3168ef3\" type=\"checkbox\" ><label for=\"d9c59486-5e6c-4740-adfe-ee3bc3168ef3\" class=\"sk-toggleable__label sk-toggleable__label-arrow\">StandardScaler</label><div class=\"sk-toggleable__content\"><pre>StandardScaler()</pre></div></div></div></div></div></div></div></div><div class=\"sk-parallel-item\"><div class=\"sk-item\"><div class=\"sk-label-container\"><div class=\"sk-label sk-toggleable\"><input class=\"sk-toggleable__control sk-hidden--visually\" id=\"826b3c0a-309a-482e-9117-0321d298db75\" type=\"checkbox\" ><label for=\"826b3c0a-309a-482e-9117-0321d298db75\" class=\"sk-toggleable__label sk-toggleable__label-arrow\">time</label><div class=\"sk-toggleable__content\"><pre>[&#x27;pickup_datetime&#x27;]</pre></div></div></div><div class=\"sk-serial\"><div class=\"sk-item\"><div class=\"sk-serial\"><div class=\"sk-item\"><div class=\"sk-estimator sk-toggleable\"><input class=\"sk-toggleable__control sk-hidden--visually\" id=\"fa99fcb8-140a-4b84-886c-1bcabb85f7ba\" type=\"checkbox\" ><label for=\"fa99fcb8-140a-4b84-886c-1bcabb85f7ba\" class=\"sk-toggleable__label sk-toggleable__label-arrow\">TimeFeaturesEncoder</label><div class=\"sk-toggleable__content\"><pre>TimeFeaturesEncoder()</pre></div></div></div><div class=\"sk-item\"><div class=\"sk-estimator sk-toggleable\"><input class=\"sk-toggleable__control sk-hidden--visually\" id=\"6b02211f-7563-4000-b126-e2450ea19644\" type=\"checkbox\" ><label for=\"6b02211f-7563-4000-b126-e2450ea19644\" class=\"sk-toggleable__label sk-toggleable__label-arrow\">OneHotEncoder</label><div class=\"sk-toggleable__content\"><pre>OneHotEncoder(handle_unknown=&#x27;ignore&#x27;)</pre></div></div></div></div></div></div></div></div></div></div></div></div>"
      ],
      "text/plain": [
       "ColumnTransformer(transformers=[('distance',\n",
       "                                 Pipeline(steps=[('dist_trans',\n",
       "                                                  DistanceTransformer()),\n",
       "                                                 ('stdscaler',\n",
       "                                                  StandardScaler())]),\n",
       "                                 ['pickup_latitude', 'pickup_longitude',\n",
       "                                  'dropoff_latitude', 'dropoff_longitude']),\n",
       "                                ('time',\n",
       "                                 Pipeline(steps=[('time_enc',\n",
       "                                                  TimeFeaturesEncoder()),\n",
       "                                                 ('ohe',\n",
       "                                                  OneHotEncoder(handle_unknown='ignore'))]),\n",
       "                                 ['pickup_datetime'])])"
      ]
     },
     "execution_count": 19,
     "metadata": {},
     "output_type": "execute_result"
    }
   ],
   "source": [
    "# create preprocessing pipeline preproc_pipe\n",
    "preproc_pipe = ColumnTransformer(\n",
    "    transformers=[\n",
    "        ('distance', dist_pipe,['pickup_latitude', 'pickup_longitude',\n",
    "                                  'dropoff_latitude', 'dropoff_longitude']),\n",
    "        ('time', time_pipe, ['pickup_datetime'])])\n",
    "# display preprocessing pipeline\n",
    "preproc_pipe"
   ]
  },
  {
   "cell_type": "markdown",
   "metadata": {},
   "source": [
    "### Model pipeline\n",
    "\n",
    "Create a pipeline containing the preprocessing and the regression model of your choice."
   ]
  },
  {
   "cell_type": "code",
   "execution_count": 20,
   "metadata": {},
   "outputs": [
    {
     "data": {
      "text/html": [
       "<style>#sk-7b12a234-c315-4619-9bb3-4d6e0e03550d {color: black;background-color: white;}#sk-7b12a234-c315-4619-9bb3-4d6e0e03550d pre{padding: 0;}#sk-7b12a234-c315-4619-9bb3-4d6e0e03550d div.sk-toggleable {background-color: white;}#sk-7b12a234-c315-4619-9bb3-4d6e0e03550d label.sk-toggleable__label {cursor: pointer;display: block;width: 100%;margin-bottom: 0;padding: 0.3em;box-sizing: border-box;text-align: center;}#sk-7b12a234-c315-4619-9bb3-4d6e0e03550d label.sk-toggleable__label-arrow:before {content: \"▸\";float: left;margin-right: 0.25em;color: #696969;}#sk-7b12a234-c315-4619-9bb3-4d6e0e03550d label.sk-toggleable__label-arrow:hover:before {color: black;}#sk-7b12a234-c315-4619-9bb3-4d6e0e03550d div.sk-estimator:hover label.sk-toggleable__label-arrow:before {color: black;}#sk-7b12a234-c315-4619-9bb3-4d6e0e03550d div.sk-toggleable__content {max-height: 0;max-width: 0;overflow: hidden;text-align: left;background-color: #f0f8ff;}#sk-7b12a234-c315-4619-9bb3-4d6e0e03550d div.sk-toggleable__content pre {margin: 0.2em;color: black;border-radius: 0.25em;background-color: #f0f8ff;}#sk-7b12a234-c315-4619-9bb3-4d6e0e03550d input.sk-toggleable__control:checked~div.sk-toggleable__content {max-height: 200px;max-width: 100%;overflow: auto;}#sk-7b12a234-c315-4619-9bb3-4d6e0e03550d input.sk-toggleable__control:checked~label.sk-toggleable__label-arrow:before {content: \"▾\";}#sk-7b12a234-c315-4619-9bb3-4d6e0e03550d div.sk-estimator input.sk-toggleable__control:checked~label.sk-toggleable__label {background-color: #d4ebff;}#sk-7b12a234-c315-4619-9bb3-4d6e0e03550d div.sk-label input.sk-toggleable__control:checked~label.sk-toggleable__label {background-color: #d4ebff;}#sk-7b12a234-c315-4619-9bb3-4d6e0e03550d input.sk-hidden--visually {border: 0;clip: rect(1px 1px 1px 1px);clip: rect(1px, 1px, 1px, 1px);height: 1px;margin: -1px;overflow: hidden;padding: 0;position: absolute;width: 1px;}#sk-7b12a234-c315-4619-9bb3-4d6e0e03550d div.sk-estimator {font-family: monospace;background-color: #f0f8ff;border: 1px dotted black;border-radius: 0.25em;box-sizing: border-box;margin-bottom: 0.5em;}#sk-7b12a234-c315-4619-9bb3-4d6e0e03550d div.sk-estimator:hover {background-color: #d4ebff;}#sk-7b12a234-c315-4619-9bb3-4d6e0e03550d div.sk-parallel-item::after {content: \"\";width: 100%;border-bottom: 1px solid gray;flex-grow: 1;}#sk-7b12a234-c315-4619-9bb3-4d6e0e03550d div.sk-label:hover label.sk-toggleable__label {background-color: #d4ebff;}#sk-7b12a234-c315-4619-9bb3-4d6e0e03550d div.sk-serial::before {content: \"\";position: absolute;border-left: 1px solid gray;box-sizing: border-box;top: 2em;bottom: 0;left: 50%;}#sk-7b12a234-c315-4619-9bb3-4d6e0e03550d div.sk-serial {display: flex;flex-direction: column;align-items: center;background-color: white;padding-right: 0.2em;padding-left: 0.2em;}#sk-7b12a234-c315-4619-9bb3-4d6e0e03550d div.sk-item {z-index: 1;}#sk-7b12a234-c315-4619-9bb3-4d6e0e03550d div.sk-parallel {display: flex;align-items: stretch;justify-content: center;background-color: white;}#sk-7b12a234-c315-4619-9bb3-4d6e0e03550d div.sk-parallel::before {content: \"\";position: absolute;border-left: 1px solid gray;box-sizing: border-box;top: 2em;bottom: 0;left: 50%;}#sk-7b12a234-c315-4619-9bb3-4d6e0e03550d div.sk-parallel-item {display: flex;flex-direction: column;position: relative;background-color: white;}#sk-7b12a234-c315-4619-9bb3-4d6e0e03550d div.sk-parallel-item:first-child::after {align-self: flex-end;width: 50%;}#sk-7b12a234-c315-4619-9bb3-4d6e0e03550d div.sk-parallel-item:last-child::after {align-self: flex-start;width: 50%;}#sk-7b12a234-c315-4619-9bb3-4d6e0e03550d div.sk-parallel-item:only-child::after {width: 0;}#sk-7b12a234-c315-4619-9bb3-4d6e0e03550d div.sk-dashed-wrapped {border: 1px dashed gray;margin: 0 0.4em 0.5em 0.4em;box-sizing: border-box;padding-bottom: 0.4em;background-color: white;position: relative;}#sk-7b12a234-c315-4619-9bb3-4d6e0e03550d div.sk-label label {font-family: monospace;font-weight: bold;background-color: white;display: inline-block;line-height: 1.2em;}#sk-7b12a234-c315-4619-9bb3-4d6e0e03550d div.sk-label-container {position: relative;z-index: 2;text-align: center;}#sk-7b12a234-c315-4619-9bb3-4d6e0e03550d div.sk-container {/* jupyter's `normalize.less` sets `[hidden] { display: none; }` but bootstrap.min.css set `[hidden] { display: none !important; }` so we also need the `!important` here to be able to override the default hidden behavior on the sphinx rendered scikit-learn.org. See: https://github.com/scikit-learn/scikit-learn/issues/21755 */display: inline-block !important;position: relative;}#sk-7b12a234-c315-4619-9bb3-4d6e0e03550d div.sk-text-repr-fallback {display: none;}</style><div id=\"sk-7b12a234-c315-4619-9bb3-4d6e0e03550d\" class=\"sk-top-container\"><div class=\"sk-text-repr-fallback\"><pre>Pipeline(steps=[(&#x27;preproc&#x27;,\n",
       "                 ColumnTransformer(transformers=[(&#x27;distance&#x27;,\n",
       "                                                  Pipeline(steps=[(&#x27;dist_trans&#x27;,\n",
       "                                                                   DistanceTransformer()),\n",
       "                                                                  (&#x27;stdscaler&#x27;,\n",
       "                                                                   StandardScaler())]),\n",
       "                                                  [&#x27;pickup_latitude&#x27;,\n",
       "                                                   &#x27;pickup_longitude&#x27;,\n",
       "                                                   &#x27;dropoff_latitude&#x27;,\n",
       "                                                   &#x27;dropoff_longitude&#x27;]),\n",
       "                                                 (&#x27;time&#x27;,\n",
       "                                                  Pipeline(steps=[(&#x27;time_enc&#x27;,\n",
       "                                                                   TimeFeaturesEncoder()),\n",
       "                                                                  (&#x27;ohe&#x27;,\n",
       "                                                                   OneHotEncoder(handle_unknown=&#x27;ignore&#x27;))]),\n",
       "                                                  [&#x27;pickup_datetime&#x27;])])),\n",
       "                (&#x27;linear_model&#x27;, LinearRegression())])</pre><b>Please rerun this cell to show the HTML repr or trust the notebook.</b></div><div class=\"sk-container\" hidden><div class=\"sk-item sk-dashed-wrapped\"><div class=\"sk-label-container\"><div class=\"sk-label sk-toggleable\"><input class=\"sk-toggleable__control sk-hidden--visually\" id=\"860c6488-a330-4fa1-95ad-3887b40f1780\" type=\"checkbox\" ><label for=\"860c6488-a330-4fa1-95ad-3887b40f1780\" class=\"sk-toggleable__label sk-toggleable__label-arrow\">Pipeline</label><div class=\"sk-toggleable__content\"><pre>Pipeline(steps=[(&#x27;preproc&#x27;,\n",
       "                 ColumnTransformer(transformers=[(&#x27;distance&#x27;,\n",
       "                                                  Pipeline(steps=[(&#x27;dist_trans&#x27;,\n",
       "                                                                   DistanceTransformer()),\n",
       "                                                                  (&#x27;stdscaler&#x27;,\n",
       "                                                                   StandardScaler())]),\n",
       "                                                  [&#x27;pickup_latitude&#x27;,\n",
       "                                                   &#x27;pickup_longitude&#x27;,\n",
       "                                                   &#x27;dropoff_latitude&#x27;,\n",
       "                                                   &#x27;dropoff_longitude&#x27;]),\n",
       "                                                 (&#x27;time&#x27;,\n",
       "                                                  Pipeline(steps=[(&#x27;time_enc&#x27;,\n",
       "                                                                   TimeFeaturesEncoder()),\n",
       "                                                                  (&#x27;ohe&#x27;,\n",
       "                                                                   OneHotEncoder(handle_unknown=&#x27;ignore&#x27;))]),\n",
       "                                                  [&#x27;pickup_datetime&#x27;])])),\n",
       "                (&#x27;linear_model&#x27;, LinearRegression())])</pre></div></div></div><div class=\"sk-serial\"><div class=\"sk-item sk-dashed-wrapped\"><div class=\"sk-label-container\"><div class=\"sk-label sk-toggleable\"><input class=\"sk-toggleable__control sk-hidden--visually\" id=\"234ca54e-0879-4bd0-9817-423dad37ed22\" type=\"checkbox\" ><label for=\"234ca54e-0879-4bd0-9817-423dad37ed22\" class=\"sk-toggleable__label sk-toggleable__label-arrow\">preproc: ColumnTransformer</label><div class=\"sk-toggleable__content\"><pre>ColumnTransformer(transformers=[(&#x27;distance&#x27;,\n",
       "                                 Pipeline(steps=[(&#x27;dist_trans&#x27;,\n",
       "                                                  DistanceTransformer()),\n",
       "                                                 (&#x27;stdscaler&#x27;,\n",
       "                                                  StandardScaler())]),\n",
       "                                 [&#x27;pickup_latitude&#x27;, &#x27;pickup_longitude&#x27;,\n",
       "                                  &#x27;dropoff_latitude&#x27;, &#x27;dropoff_longitude&#x27;]),\n",
       "                                (&#x27;time&#x27;,\n",
       "                                 Pipeline(steps=[(&#x27;time_enc&#x27;,\n",
       "                                                  TimeFeaturesEncoder()),\n",
       "                                                 (&#x27;ohe&#x27;,\n",
       "                                                  OneHotEncoder(handle_unknown=&#x27;ignore&#x27;))]),\n",
       "                                 [&#x27;pickup_datetime&#x27;])])</pre></div></div></div><div class=\"sk-parallel\"><div class=\"sk-parallel-item\"><div class=\"sk-item\"><div class=\"sk-label-container\"><div class=\"sk-label sk-toggleable\"><input class=\"sk-toggleable__control sk-hidden--visually\" id=\"bade0d0c-3272-4fc1-a5e7-588b388e0561\" type=\"checkbox\" ><label for=\"bade0d0c-3272-4fc1-a5e7-588b388e0561\" class=\"sk-toggleable__label sk-toggleable__label-arrow\">distance</label><div class=\"sk-toggleable__content\"><pre>[&#x27;pickup_latitude&#x27;, &#x27;pickup_longitude&#x27;, &#x27;dropoff_latitude&#x27;, &#x27;dropoff_longitude&#x27;]</pre></div></div></div><div class=\"sk-serial\"><div class=\"sk-item\"><div class=\"sk-serial\"><div class=\"sk-item\"><div class=\"sk-estimator sk-toggleable\"><input class=\"sk-toggleable__control sk-hidden--visually\" id=\"e16f0627-1610-485d-a135-22e24d3bed0d\" type=\"checkbox\" ><label for=\"e16f0627-1610-485d-a135-22e24d3bed0d\" class=\"sk-toggleable__label sk-toggleable__label-arrow\">DistanceTransformer</label><div class=\"sk-toggleable__content\"><pre>DistanceTransformer()</pre></div></div></div><div class=\"sk-item\"><div class=\"sk-estimator sk-toggleable\"><input class=\"sk-toggleable__control sk-hidden--visually\" id=\"46c71e84-83cf-4bbc-ac24-58656ddd8386\" type=\"checkbox\" ><label for=\"46c71e84-83cf-4bbc-ac24-58656ddd8386\" class=\"sk-toggleable__label sk-toggleable__label-arrow\">StandardScaler</label><div class=\"sk-toggleable__content\"><pre>StandardScaler()</pre></div></div></div></div></div></div></div></div><div class=\"sk-parallel-item\"><div class=\"sk-item\"><div class=\"sk-label-container\"><div class=\"sk-label sk-toggleable\"><input class=\"sk-toggleable__control sk-hidden--visually\" id=\"dc0992bf-7abc-434a-bd29-c37a043e5a70\" type=\"checkbox\" ><label for=\"dc0992bf-7abc-434a-bd29-c37a043e5a70\" class=\"sk-toggleable__label sk-toggleable__label-arrow\">time</label><div class=\"sk-toggleable__content\"><pre>[&#x27;pickup_datetime&#x27;]</pre></div></div></div><div class=\"sk-serial\"><div class=\"sk-item\"><div class=\"sk-serial\"><div class=\"sk-item\"><div class=\"sk-estimator sk-toggleable\"><input class=\"sk-toggleable__control sk-hidden--visually\" id=\"e161d277-c35f-4edc-a63a-0269d5399786\" type=\"checkbox\" ><label for=\"e161d277-c35f-4edc-a63a-0269d5399786\" class=\"sk-toggleable__label sk-toggleable__label-arrow\">TimeFeaturesEncoder</label><div class=\"sk-toggleable__content\"><pre>TimeFeaturesEncoder()</pre></div></div></div><div class=\"sk-item\"><div class=\"sk-estimator sk-toggleable\"><input class=\"sk-toggleable__control sk-hidden--visually\" id=\"15aa5ef3-83ad-4a72-b603-c4ddc4ce8dcc\" type=\"checkbox\" ><label for=\"15aa5ef3-83ad-4a72-b603-c4ddc4ce8dcc\" class=\"sk-toggleable__label sk-toggleable__label-arrow\">OneHotEncoder</label><div class=\"sk-toggleable__content\"><pre>OneHotEncoder(handle_unknown=&#x27;ignore&#x27;)</pre></div></div></div></div></div></div></div></div></div></div><div class=\"sk-item\"><div class=\"sk-estimator sk-toggleable\"><input class=\"sk-toggleable__control sk-hidden--visually\" id=\"9bd28225-1734-402d-a31d-6b1cc3384ad4\" type=\"checkbox\" ><label for=\"9bd28225-1734-402d-a31d-6b1cc3384ad4\" class=\"sk-toggleable__label sk-toggleable__label-arrow\">LinearRegression</label><div class=\"sk-toggleable__content\"><pre>LinearRegression()</pre></div></div></div></div></div></div></div>"
      ],
      "text/plain": [
       "Pipeline(steps=[('preproc',\n",
       "                 ColumnTransformer(transformers=[('distance',\n",
       "                                                  Pipeline(steps=[('dist_trans',\n",
       "                                                                   DistanceTransformer()),\n",
       "                                                                  ('stdscaler',\n",
       "                                                                   StandardScaler())]),\n",
       "                                                  ['pickup_latitude',\n",
       "                                                   'pickup_longitude',\n",
       "                                                   'dropoff_latitude',\n",
       "                                                   'dropoff_longitude']),\n",
       "                                                 ('time',\n",
       "                                                  Pipeline(steps=[('time_enc',\n",
       "                                                                   TimeFeaturesEncoder()),\n",
       "                                                                  ('ohe',\n",
       "                                                                   OneHotEncoder(handle_unknown='ignore'))]),\n",
       "                                                  ['pickup_datetime'])])),\n",
       "                ('linear_model', LinearRegression())])"
      ]
     },
     "execution_count": 20,
     "metadata": {},
     "output_type": "execute_result"
    }
   ],
   "source": [
    "# create preprocessing pipeline preproc_pipe\n",
    "pipe = Pipeline([('preproc',preproc_pipe),\n",
    "                ('linear_model', LinearRegression())])\n",
    "pipe"
   ]
  },
  {
   "cell_type": "markdown",
   "metadata": {},
   "source": [
    "### Training and performance"
   ]
  },
  {
   "cell_type": "markdown",
   "metadata": {},
   "source": [
    "Train the pipelined model and compute the prediction on the test set:"
   ]
  },
  {
   "cell_type": "code",
   "execution_count": 21,
   "metadata": {},
   "outputs": [],
   "source": [
    "# train the pipelined model\n",
    "pipe.fit(X_train, y_train)\n",
    "\n",
    "# compute y_pred on the test set\n",
    "y_pred = pipe.predict(X_test)"
   ]
  },
  {
   "cell_type": "code",
   "execution_count": 22,
   "metadata": {},
   "outputs": [],
   "source": [
    "y_test = y_test.values"
   ]
  },
  {
   "cell_type": "markdown",
   "metadata": {},
   "source": [
    "Use the RMSE to evaluate the performance of the model:"
   ]
  },
  {
   "cell_type": "code",
   "execution_count": 23,
   "metadata": {},
   "outputs": [],
   "source": [
    "def compute_rmse(y_pred, y_true):\n",
    "    diff = []\n",
    "    for i in range(len(y_pred)) : \n",
    "        a = (y_pred[i]-y_true[i])**2\n",
    "        diff.append(a)\n",
    "        \n",
    "    RMSE = sum(diff)\n",
    "    RMSE = RMSE/len(y_pred)\n",
    "    RMSE =  math.sqrt(RMSE)\n",
    "    \n",
    "    return RMSE"
   ]
  },
  {
   "cell_type": "code",
   "execution_count": 24,
   "metadata": {
    "scrolled": true
   },
   "outputs": [
    {
     "data": {
      "text/plain": [
       "9.863573804116186"
      ]
     },
     "execution_count": 24,
     "metadata": {},
     "output_type": "execute_result"
    }
   ],
   "source": [
    "# call compute_rmse\n",
    "compute_rmse(y_pred, y_test)"
   ]
  },
  {
   "cell_type": "markdown",
   "metadata": {},
   "source": [
    "## Complete the workflow with a pipeline"
   ]
  },
  {
   "cell_type": "markdown",
   "metadata": {},
   "source": [
    "Here we will implement the whole workflow for our Taxifare kaggle challenge.\n",
    "\n",
    "For that we will refactor the code in functions for more clarity.\n",
    "\n",
    "Implement the following functions:\n",
    "- `get_data()` to fetch the data \n",
    "- `clean_data()` to clean the data\n",
    "- `get_pipeline()` to get the pipeline defined earlier\n",
    "- `train()` to train our model\n",
    "- `evaluate()` to evaluate our model on test data"
   ]
  },
  {
   "cell_type": "code",
   "execution_count": 31,
   "metadata": {},
   "outputs": [],
   "source": [
    "# implement get_data() function\n",
    "def get_data(nrows=10000):\n",
    "    df = pd.read_csv('data/train.csv', nrows=nrows)\n",
    "    return df"
   ]
  },
  {
   "cell_type": "code",
   "execution_count": 26,
   "metadata": {},
   "outputs": [],
   "source": [
    "# implement clean_data() function\n",
    "def clean_data(df, test=False):\n",
    "    '''returns a DataFrame without outliers and missing values'''\n",
    "    df = df[df.passenger_count.between(1, 10)]\n",
    "    df = df[df.fare_amount.between(0, 60)]\n",
    "    df = df[df[\"pickup_latitude\"].between(left = 40, right = 42 )]\n",
    "    df = df[df[\"pickup_longitude\"].between(left = -74.3, right = -72.9 )]\n",
    "    df = df[df[\"dropoff_latitude\"].between(left = 40, right = 42 )]\n",
    "    df = df[df[\"dropoff_longitude\"].between(left = -74.3, right = -72.9 )]\n",
    "    return df"
   ]
  },
  {
   "cell_type": "code",
   "execution_count": 27,
   "metadata": {},
   "outputs": [],
   "source": [
    "# implement set_pipeline() function\n",
    "def set_pipeline():\n",
    "    '''returns a pipelined model'''\n",
    "    pipe = Pipeline(steps=[('preproc',\n",
    "                 ColumnTransformer(transformers=[('distance',\n",
    "                                                  Pipeline(steps=[('dist_trans',\n",
    "                                                                   DistanceTransformer()),\n",
    "                                                                  ('stdscaler',\n",
    "                                                                   StandardScaler())]),\n",
    "                                                  ['pickup_latitude',\n",
    "                                                   'pickup_longitude',\n",
    "                                                   'dropoff_latitude',\n",
    "                                                   'dropoff_longitude']),\n",
    "                                                 ('time',\n",
    "                                                  Pipeline(steps=[('time_enc',\n",
    "                                                                   TimeFeaturesEncoder(time_column='pickup_datetime')),\n",
    "                                                                  ('ohe',\n",
    "                                                                   OneHotEncoder(handle_unknown='ignore'))]),\n",
    "                                                  ['pickup_datetime'])])),\n",
    "                ('linear_model', LinearRegression())])\n",
    "    return pipe"
   ]
  },
  {
   "cell_type": "code",
   "execution_count": 28,
   "metadata": {},
   "outputs": [],
   "source": [
    "# implement train() function\n",
    "def train(X_train, y_train, pipeline):\n",
    "    '''returns a trained pipelined model'''\n",
    "    pipeline = pipeline.fit(X_train, y_train)\n",
    "    \n",
    "    return pipeline"
   ]
  },
  {
   "cell_type": "code",
   "execution_count": 29,
   "metadata": {},
   "outputs": [],
   "source": [
    "# implement evaluate() function\n",
    "def evaluate(X_test, y_test, pipeline):\n",
    "    '''returns the value of the RMSE'''\n",
    "    y_pred = pipeline.predict(X_test)\n",
    "    y_test = y_test.values\n",
    "    rmse = compute_rmse(y_pred, y_test)\n",
    "    print(rmse)\n",
    "    return rmse"
   ]
  },
  {
   "cell_type": "markdown",
   "metadata": {},
   "source": [
    "### Test the complete worflow\n",
    "\n",
    "Use the above functions to test the complete workflow."
   ]
  },
  {
   "cell_type": "code",
   "execution_count": 32,
   "metadata": {},
   "outputs": [
    {
     "name": "stdout",
     "output_type": "stream",
     "text": [
      "6.091466488794959\n"
     ]
    }
   ],
   "source": [
    "# store the data in a DataFrame\n",
    "df = get_data()\n",
    "\n",
    "#clean data\n",
    "df = clean_data(df)\n",
    "\n",
    "# set X and y\n",
    "y = df[\"fare_amount\"]\n",
    "X = df.drop(\"fare_amount\", axis=1)\n",
    "\n",
    "# hold out\n",
    "X_train, X_val, y_train, y_val = train_test_split(X, y, test_size=0.15)\n",
    "\n",
    "# build pipeline\n",
    "pipeline = set_pipeline()\n",
    "\n",
    "# train the pipeline\n",
    "train(X_train, y_train, pipeline)\n",
    "\n",
    "# evaluate the pipeline\n",
    "rmse = evaluate(X_val, y_val, pipeline)"
   ]
  },
  {
   "cell_type": "markdown",
   "metadata": {},
   "source": [
    "### Congrats!\n",
    "\n",
    "Now we are ready to convert this complete workflow into a packaged code 🚀"
   ]
  }
 ],
 "metadata": {
  "challengify": {
   "keep_output": true
  },
  "kernelspec": {
   "display_name": "Python 3 (ipykernel)",
   "language": "python",
   "name": "python3"
  },
  "language_info": {
   "codemirror_mode": {
    "name": "ipython",
    "version": 3
   },
   "file_extension": ".py",
   "mimetype": "text/x-python",
   "name": "python",
   "nbconvert_exporter": "python",
   "pygments_lexer": "ipython3",
   "version": "3.9.15"
  },
  "pycharm": {
   "stem_cell": {
    "cell_type": "raw",
    "metadata": {
     "collapsed": false
    },
    "source": []
   }
  },
  "toc": {
   "base_numbering": 1,
   "nav_menu": {},
   "number_sections": false,
   "sideBar": true,
   "skip_h1_title": false,
   "title_cell": "Table of Contents",
   "title_sidebar": "Contents",
   "toc_cell": false,
   "toc_position": {},
   "toc_section_display": true,
   "toc_window_display": true
  },
  "varInspector": {
   "cols": {
    "lenName": 16,
    "lenType": 16,
    "lenVar": 40
   },
   "kernels_config": {
    "python": {
     "delete_cmd_postfix": "",
     "delete_cmd_prefix": "del ",
     "library": "var_list.py",
     "varRefreshCmd": "print(var_dic_list())"
    },
    "r": {
     "delete_cmd_postfix": ") ",
     "delete_cmd_prefix": "rm(",
     "library": "var_list.r",
     "varRefreshCmd": "cat(var_dic_list()) "
    }
   },
   "position": {
    "height": "244px",
    "left": "1550px",
    "right": "20px",
    "top": "120px",
    "width": "350px"
   },
   "types_to_exclude": [
    "module",
    "function",
    "builtin_function_or_method",
    "instance",
    "_Feature"
   ],
   "window_display": false
  }
 },
 "nbformat": 4,
 "nbformat_minor": 4
}
